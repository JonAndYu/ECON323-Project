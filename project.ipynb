{
 "cells": [
  {
   "cell_type": "code",
   "execution_count": 1,
   "metadata": {},
   "outputs": [],
   "source": [
    "# Every time you start working you should pull just in case someone else did something."
   ]
  },
  {
   "cell_type": "markdown",
   "metadata": {},
   "source": [
    "# Developing a Credit Card Fraud Classifier"
   ]
  },
  {
   "cell_type": "markdown",
   "metadata": {},
   "source": [
    "#### (ECON 323 Final Project)"
   ]
  },
  {
   "cell_type": "markdown",
   "metadata": {},
   "source": [
    "## Group Members and Contributions:\n",
    "\n",
    "- **Joyce Chen (40597759)**: Model creation and data visualizations\n",
    "- **Bryan Ly (62911532)**: Preliminary data analysis, data interpretation\n",
    "- **Jonathan Yu (67758979)**: Model creation and interpretation, data visualization"
   ]
  },
  {
   "cell_type": "markdown",
   "metadata": {},
   "source": [
    "## Introduction: -- edit as you guys see fit\n",
    "\n",
    "As the banking system continues its transition to become more modern and digital, the use of physical money to conduct transactions has declined and in its place is the use of debit and credit cards. While credit cards have made purchasing items easier, both in-person and online, the rise in their usage has been accompanied by increasing fraudulent activity. Frauds and scams are a major concern for credit card companies not only because of the large volume of daily transactions but because fraudulent transactions look highly similar to normal transactions. Therefore, given the increased risk to consumers and the difficulty for credit card companies to identify fraud, the aim of our project is to develop a credit card fraud classifier which identifies whether a transaction is fraudulent or not. To do this, we use a [Credit Card Fraud data set](https://www.kaggle.com/datasets/dhanushnarayananr/credit-card-fraud?fbclid=IwAR3sAxYaAEfgpFWHtKg11x7E1LnXX4uibfwgwDXUMWlOXctZPexf4qsSin0.html) and apply various machine-learning methods to determine which method is best for classifying transactions and whether our classifier is sufficient for use in the real world (ie. can the model quickly classify each transaction as ether valid or fraud in real-time?).\n",
    "\n",
    "**The various features of this data set specify**:\n",
    "| Dataset Attribute | Description |\n",
    "|-------------------|-------------|\n",
    "| **distance_from_home** | The distance from where the transaction occurred to the purchaser's home address |\n",
    "| **distance_from_last_transaction** | The distance between where a purchasers last two transactions occurred |\n",
    "| **ratio_to_median_purchase_price** | The ratio of the cost of a particular transaction to the median transaction cost |\n",
    "| **repeat_retailer** | If a transaction has occurred more than once from the same retailer (yes = 1; no = 0) |\n",
    "| **used_chip** | If the transaction was authorized through a physical credit card (yes = 1; no = 0) |\n",
    "| **used_pin_number** | If the transaction was authorized through a PIN number (yes = 1; no = 0) |\n",
    "| **online_order** | If the transaction was an online order (yes = 1; no = 0) |\n",
    "| **fraud** | If the transaction was fraudulent (yes = 1; no = 0) |"
   ]
  },
  {
   "cell_type": "markdown",
   "metadata": {},
   "source": [
    "## Methodology / Project Outline:\n",
    "\n",
    "1) Loading In & Analyzing the Raw Data\n",
    "2) kNN Classifier \n",
    "3) **make changes and alterations after**"
   ]
  },
  {
   "cell_type": "code",
   "execution_count": 2,
   "metadata": {},
   "outputs": [
    {
     "name": "stdout",
     "output_type": "stream",
     "text": [
      "Requirement already satisfied: imblearn in /Users/user/opt/anaconda3/lib/python3.9/site-packages (0.0)\n",
      "Requirement already satisfied: imbalanced-learn in /Users/user/opt/anaconda3/lib/python3.9/site-packages (from imblearn) (0.10.1)\n",
      "Requirement already satisfied: joblib>=1.1.1 in /Users/user/opt/anaconda3/lib/python3.9/site-packages (from imbalanced-learn->imblearn) (1.2.0)\n",
      "Requirement already satisfied: scikit-learn>=1.0.2 in /Users/user/opt/anaconda3/lib/python3.9/site-packages (from imbalanced-learn->imblearn) (1.0.2)\n",
      "Requirement already satisfied: numpy>=1.17.3 in /Users/user/opt/anaconda3/lib/python3.9/site-packages (from imbalanced-learn->imblearn) (1.21.5)\n",
      "Requirement already satisfied: threadpoolctl>=2.0.0 in /Users/user/opt/anaconda3/lib/python3.9/site-packages (from imbalanced-learn->imblearn) (2.2.0)\n",
      "Requirement already satisfied: scipy>=1.3.2 in /Users/user/opt/anaconda3/lib/python3.9/site-packages (from imbalanced-learn->imblearn) (1.9.1)\n"
     ]
    }
   ],
   "source": [
    "!pip install imblearn\n",
    "import numpy as np\n",
    "import pandas as pd\n",
    "from matplotlib import pyplot as plt\n",
    "import seaborn as sns\n",
    "\n",
    "\n",
    "# Preprocessing and pipeline\n",
    "from sklearn.utils import shuffle\n",
    "from imblearn.over_sampling import ( RandomOverSampler, SMOTE )\n",
    "from imblearn.under_sampling import RandomUnderSampler\n",
    "\n",
    "from sklearn.feature_selection import SelectKBest, f_classif\n",
    "from sklearn.model_selection import GridSearchCV\n",
    "from sklearn.tree import DecisionTreeClassifier\n",
    "from sklearn.ensemble import RandomForestClassifier\n",
    "\n",
    "# train test split and cross validation\n",
    "from sklearn.model_selection import cross_val_score, cross_validate, train_test_split\n",
    "from sklearn.neighbors import KNeighborsClassifier\n",
    "from imblearn.pipeline import make_pipeline, Pipeline\n",
    "from sklearn.preprocessing import (\n",
    "    StandardScaler,\n",
    ")\n",
    "\n",
    "from sklearn.metrics import confusion_matrix\n",
    "\n",
    "from sklearn.metrics import f1_score, classification_report\n",
    "from sklearn.svm import SVC, LinearSVC\n",
    "\n",
    "\n",
    "pd.set_option(\"display.max_colwidth\", 200)\n",
    "\n",
    "import warnings\n",
    "warnings.simplefilter(action='ignore', category=FutureWarning)"
   ]
  },
  {
   "cell_type": "markdown",
   "metadata": {},
   "source": [
    "## Preliminary Data Analysis: -- edit as you guys see fit\n",
    "\n",
    "As will be shown below, the Credit Card Fraud Transaction data set used in this project contains eight million (8,000,000) observations and a total of one million (1,000,000) unique fraud and non-fraud credit card transactions. "
   ]
  },
  {
   "cell_type": "markdown",
   "metadata": {},
   "source": [
    "### Loading In Data\n"
   ]
  },
  {
   "cell_type": "code",
   "execution_count": 3,
   "metadata": {},
   "outputs": [],
   "source": [
    "# Helper functions to help with displaying data.\n",
    "def class_count(y_data):\n",
    "    counts = y_data.value_counts().to_list()\n",
    "\n",
    "    data = {\"Class\": [\"Non-Fraud\", \"Fraud\"],\n",
    "            \"Count\": counts}\n",
    "    display(pd.DataFrame(data))\n",
    "\n",
    "# Helper function to expidite tuning process:\n",
    "# Returns a table of metrics and their corresponding hyperparameters.\n",
    "def tune(param_grid, pipeline, X_train, y_train, scoring_func):\n",
    "    # Perform grid search with 5-fold cross validation\n",
    "    grid_search = GridSearchCV(pipeline, param_grid=param_grid, cv=5, scoring=scoring_func)\n",
    "    grid_search.fit(X_train, y_train)\n",
    "\n",
    "    # Print the best hyperparameters and corresponding score\n",
    "    results = pd.DataFrame(grid_search.cv_results_)[['params', 'mean_test_score']]\n",
    "    results = pd.concat([results.drop('params', axis=1), \n",
    "                    results['params'].apply(lambda x: pd.Series(x))], axis=1)\n",
    "    results.columns = [\"Mean Test Score\"] + list(param_grid.keys())\n",
    "    return results\n",
    "\n",
    "# Helper function to make confusion Matrices:\n",
    "def conf_mat_maker(y_test, y_pred):\n",
    "    cm = confusion_matrix(y_test, y_pred)\n",
    "\n",
    "    # Create a heatmap from the confusion matrix using seaborn\n",
    "    class_names = ['non-fraud', 'fraud']\n",
    "    sns.heatmap(cm, annot=True, fmt=\"d\", cmap=\"YlGnBu\", xticklabels=class_names, yticklabels=class_names)\n",
    "\n",
    "    # Set the axis labels and title\n",
    "    plt.xlabel(\"Predicted labels\")\n",
    "    plt.ylabel(\"True labels\")\n",
    "    plt.title(\"Confusion Matrix of Credit Card Fraud Classification\")\n",
    "\n",
    "    # Show the plot\n",
    "    plt.show()\n",
    "    \n",
    "# Helper function to return the mean and std of cross validation\n",
    "def mean_std_cross_val_scores(model, X_train, y_train, **kwargs):\n",
    "    scores = cross_validate(model, X_train, y_train, **kwargs)\n",
    "\n",
    "    mean_scores = pd.DataFrame(scores).mean()\n",
    "    std_scores = pd.DataFrame(scores).std()\n",
    "    out_col = []\n",
    "\n",
    "    for i in range(len(mean_scores)):\n",
    "        out_col.append((f\"%0.3f (+/- %0.3f)\" % (mean_scores[i], std_scores[i])))\n",
    "\n",
    "    return pd.Series(data=out_col, index=mean_scores.index)"
   ]
  },
  {
   "cell_type": "code",
   "execution_count": 4,
   "metadata": {},
   "outputs": [
    {
     "data": {
      "text/html": [
       "<div>\n",
       "<style scoped>\n",
       "    .dataframe tbody tr th:only-of-type {\n",
       "        vertical-align: middle;\n",
       "    }\n",
       "\n",
       "    .dataframe tbody tr th {\n",
       "        vertical-align: top;\n",
       "    }\n",
       "\n",
       "    .dataframe thead th {\n",
       "        text-align: right;\n",
       "    }\n",
       "</style>\n",
       "<table border=\"1\" class=\"dataframe\">\n",
       "  <thead>\n",
       "    <tr style=\"text-align: right;\">\n",
       "      <th></th>\n",
       "      <th>distance_from_home</th>\n",
       "      <th>distance_from_last_transaction</th>\n",
       "      <th>ratio_to_median_purchase_price</th>\n",
       "      <th>repeat_retailer</th>\n",
       "      <th>used_chip</th>\n",
       "      <th>used_pin_number</th>\n",
       "      <th>online_order</th>\n",
       "      <th>fraud</th>\n",
       "    </tr>\n",
       "  </thead>\n",
       "  <tbody>\n",
       "    <tr>\n",
       "      <th>0</th>\n",
       "      <td>57.877857</td>\n",
       "      <td>0.311140</td>\n",
       "      <td>1.945940</td>\n",
       "      <td>1.0</td>\n",
       "      <td>1.0</td>\n",
       "      <td>0.0</td>\n",
       "      <td>0.0</td>\n",
       "      <td>0.0</td>\n",
       "    </tr>\n",
       "    <tr>\n",
       "      <th>1</th>\n",
       "      <td>10.829943</td>\n",
       "      <td>0.175592</td>\n",
       "      <td>1.294219</td>\n",
       "      <td>1.0</td>\n",
       "      <td>0.0</td>\n",
       "      <td>0.0</td>\n",
       "      <td>0.0</td>\n",
       "      <td>0.0</td>\n",
       "    </tr>\n",
       "    <tr>\n",
       "      <th>2</th>\n",
       "      <td>5.091079</td>\n",
       "      <td>0.805153</td>\n",
       "      <td>0.427715</td>\n",
       "      <td>1.0</td>\n",
       "      <td>0.0</td>\n",
       "      <td>0.0</td>\n",
       "      <td>1.0</td>\n",
       "      <td>0.0</td>\n",
       "    </tr>\n",
       "    <tr>\n",
       "      <th>3</th>\n",
       "      <td>2.247564</td>\n",
       "      <td>5.600044</td>\n",
       "      <td>0.362663</td>\n",
       "      <td>1.0</td>\n",
       "      <td>1.0</td>\n",
       "      <td>0.0</td>\n",
       "      <td>1.0</td>\n",
       "      <td>0.0</td>\n",
       "    </tr>\n",
       "    <tr>\n",
       "      <th>4</th>\n",
       "      <td>44.190936</td>\n",
       "      <td>0.566486</td>\n",
       "      <td>2.222767</td>\n",
       "      <td>1.0</td>\n",
       "      <td>1.0</td>\n",
       "      <td>0.0</td>\n",
       "      <td>1.0</td>\n",
       "      <td>0.0</td>\n",
       "    </tr>\n",
       "  </tbody>\n",
       "</table>\n",
       "</div>"
      ],
      "text/plain": [
       "   distance_from_home  distance_from_last_transaction  \\\n",
       "0           57.877857                        0.311140   \n",
       "1           10.829943                        0.175592   \n",
       "2            5.091079                        0.805153   \n",
       "3            2.247564                        5.600044   \n",
       "4           44.190936                        0.566486   \n",
       "\n",
       "   ratio_to_median_purchase_price  repeat_retailer  used_chip  \\\n",
       "0                        1.945940              1.0        1.0   \n",
       "1                        1.294219              1.0        0.0   \n",
       "2                        0.427715              1.0        0.0   \n",
       "3                        0.362663              1.0        1.0   \n",
       "4                        2.222767              1.0        1.0   \n",
       "\n",
       "   used_pin_number  online_order  fraud  \n",
       "0              0.0           0.0    0.0  \n",
       "1              0.0           0.0    0.0  \n",
       "2              0.0           1.0    0.0  \n",
       "3              0.0           1.0    0.0  \n",
       "4              0.0           1.0    0.0  "
      ]
     },
     "execution_count": 4,
     "metadata": {},
     "output_type": "execute_result"
    }
   ],
   "source": [
    "raw_df = pd.read_csv('data/card_transdata.csv')\n",
    "raw_df.head()"
   ]
  },
  {
   "cell_type": "code",
   "execution_count": 5,
   "metadata": {},
   "outputs": [
    {
     "data": {
      "text/html": [
       "<div>\n",
       "<style scoped>\n",
       "    .dataframe tbody tr th:only-of-type {\n",
       "        vertical-align: middle;\n",
       "    }\n",
       "\n",
       "    .dataframe tbody tr th {\n",
       "        vertical-align: top;\n",
       "    }\n",
       "\n",
       "    .dataframe thead th {\n",
       "        text-align: right;\n",
       "    }\n",
       "</style>\n",
       "<table border=\"1\" class=\"dataframe\">\n",
       "  <thead>\n",
       "    <tr style=\"text-align: right;\">\n",
       "      <th></th>\n",
       "      <th>distance_from_home</th>\n",
       "      <th>distance_from_last_transaction</th>\n",
       "      <th>ratio_to_median_purchase_price</th>\n",
       "      <th>repeat_retailer</th>\n",
       "      <th>used_chip</th>\n",
       "      <th>used_pin_number</th>\n",
       "      <th>online_order</th>\n",
       "      <th>fraud</th>\n",
       "    </tr>\n",
       "  </thead>\n",
       "  <tbody>\n",
       "    <tr>\n",
       "      <th>999995</th>\n",
       "      <td>2.207101</td>\n",
       "      <td>0.112651</td>\n",
       "      <td>1.626798</td>\n",
       "      <td>1.0</td>\n",
       "      <td>1.0</td>\n",
       "      <td>0.0</td>\n",
       "      <td>0.0</td>\n",
       "      <td>0.0</td>\n",
       "    </tr>\n",
       "    <tr>\n",
       "      <th>999996</th>\n",
       "      <td>19.872726</td>\n",
       "      <td>2.683904</td>\n",
       "      <td>2.778303</td>\n",
       "      <td>1.0</td>\n",
       "      <td>1.0</td>\n",
       "      <td>0.0</td>\n",
       "      <td>0.0</td>\n",
       "      <td>0.0</td>\n",
       "    </tr>\n",
       "    <tr>\n",
       "      <th>999997</th>\n",
       "      <td>2.914857</td>\n",
       "      <td>1.472687</td>\n",
       "      <td>0.218075</td>\n",
       "      <td>1.0</td>\n",
       "      <td>1.0</td>\n",
       "      <td>0.0</td>\n",
       "      <td>1.0</td>\n",
       "      <td>0.0</td>\n",
       "    </tr>\n",
       "    <tr>\n",
       "      <th>999998</th>\n",
       "      <td>4.258729</td>\n",
       "      <td>0.242023</td>\n",
       "      <td>0.475822</td>\n",
       "      <td>1.0</td>\n",
       "      <td>0.0</td>\n",
       "      <td>0.0</td>\n",
       "      <td>1.0</td>\n",
       "      <td>0.0</td>\n",
       "    </tr>\n",
       "    <tr>\n",
       "      <th>999999</th>\n",
       "      <td>58.108125</td>\n",
       "      <td>0.318110</td>\n",
       "      <td>0.386920</td>\n",
       "      <td>1.0</td>\n",
       "      <td>1.0</td>\n",
       "      <td>0.0</td>\n",
       "      <td>1.0</td>\n",
       "      <td>0.0</td>\n",
       "    </tr>\n",
       "  </tbody>\n",
       "</table>\n",
       "</div>"
      ],
      "text/plain": [
       "        distance_from_home  distance_from_last_transaction  \\\n",
       "999995            2.207101                        0.112651   \n",
       "999996           19.872726                        2.683904   \n",
       "999997            2.914857                        1.472687   \n",
       "999998            4.258729                        0.242023   \n",
       "999999           58.108125                        0.318110   \n",
       "\n",
       "        ratio_to_median_purchase_price  repeat_retailer  used_chip  \\\n",
       "999995                        1.626798              1.0        1.0   \n",
       "999996                        2.778303              1.0        1.0   \n",
       "999997                        0.218075              1.0        1.0   \n",
       "999998                        0.475822              1.0        0.0   \n",
       "999999                        0.386920              1.0        1.0   \n",
       "\n",
       "        used_pin_number  online_order  fraud  \n",
       "999995              0.0           0.0    0.0  \n",
       "999996              0.0           0.0    0.0  \n",
       "999997              0.0           1.0    0.0  \n",
       "999998              0.0           1.0    0.0  \n",
       "999999              0.0           1.0    0.0  "
      ]
     },
     "execution_count": 5,
     "metadata": {},
     "output_type": "execute_result"
    }
   ],
   "source": [
    "raw_df.tail()"
   ]
  },
  {
   "cell_type": "code",
   "execution_count": 6,
   "metadata": {},
   "outputs": [
    {
     "data": {
      "text/plain": [
       "distance_from_home                0\n",
       "distance_from_last_transaction    0\n",
       "ratio_to_median_purchase_price    0\n",
       "repeat_retailer                   0\n",
       "used_chip                         0\n",
       "used_pin_number                   0\n",
       "online_order                      0\n",
       "fraud                             0\n",
       "dtype: int64"
      ]
     },
     "execution_count": 6,
     "metadata": {},
     "output_type": "execute_result"
    }
   ],
   "source": [
    "# Shows that there are no null rows that we need to deal with. \n",
    "raw_df.isnull().sum()"
   ]
  },
  {
   "cell_type": "markdown",
   "metadata": {},
   "source": [
    "### Data Imbalance Check\n",
    "\n",
    "An expected, yet, key observation of our data set is that it is largely imbalanced. More specifically, we identified that a majority (91.26%) of our observed credit card transactions are not fraud whereas very few (8.74%) were. Given that our project focuses on classification (ie. identifying whether a credit card transaction is fraudulent or not), we note that training a classification model without first fixing this problem would result in a completely biased model.\n",
    "\n",
    "To emphasize this point, originally, how well our classifier performed was going to be measured by accuracy (ie. how often our model made a correct prediction throughout our entire data set). Given the imbalance of our data, accuracy was not a viable metric to measure our classifier. To understand why, notice that because our data set contains 91.26% regular transactions, if our model only predicted regular transactions, our model would be deemed 91.26% accurate which would not be a genuine reflection of our models predictive skill. \n",
    "\n",
    "Therefore, to avoid such issues, we begin by visualizing the data imbalance and choose to measure the performance of our classifier by using the F1 score. The F1 score is a metric which combines the ***precision*** (the number of true positives over the number of positive predictions) and ***recall*** (the number of true positives over the number of actual positives) scores of our model. In comparison to accuracy which evaluates our model based on its overall performance, the F1 score evaluates the predictive skill of our model based on its class-wise (fraud and non-fraud) performance making it a viable metric to measure our classifier."
   ]
  },
  {
   "cell_type": "code",
   "execution_count": 7,
   "metadata": {},
   "outputs": [
    {
     "data": {
      "image/png": "[encoded data removed]",
      "text/plain": [
       "<Figure size 640x480 with 1 Axes>"
      ]
     },
     "metadata": {},
     "output_type": "display_data"
    }
   ],
   "source": [
    "labels = [\"genuine\", \"fraud\"]\n",
    "counts = raw_df[\"fraud\"].value_counts().to_list()\n",
    "proportion = counts / np.sum(counts) * 100\n",
    "\n",
    "bar = plt.bar(labels, counts)\n",
    "plt.ylabel(\"Count\")\n",
    "plt.title(\"Number of Regular & Fraud Credit Card Transactions\")\n",
    "\n",
    "# add text inside each bar\n",
    "for idx, rect in enumerate(bar):\n",
    "    height = rect.get_height()\n",
    "    plt.text(rect.get_x() + rect.get_width() / 2.0, height, f'{proportion[idx]:.2f}%', ha='center', va='bottom')\n",
    "\n",
    "# display the chart\n",
    "plt.show()"
   ]
  },
  {
   "cell_type": "code",
   "execution_count": 8,
   "metadata": {},
   "outputs": [
    {
     "data": {
      "text/plain": [
       "[912597, 87403]"
      ]
     },
     "execution_count": 8,
     "metadata": {},
     "output_type": "execute_result"
    }
   ],
   "source": [
    "counts"
   ]
  },
  {
   "cell_type": "markdown",
   "metadata": {},
   "source": [
    "# kNN Classifier"
   ]
  },
  {
   "cell_type": "markdown",
   "metadata": {},
   "source": [
    "As previously discussed in the preliminary data analysis, the credit card fraud data set is highly imbalanced, with only 87,403 frauds observations of of 1000000 observations. Since kNN classification is a non-parametric algorithm, applying upsampling techniques like SMOTE would only increase the runtime of making predictions. Therefore, random downsampling will be employed to both increase efficiency and maintain a 50% ratio of each class."
   ]
  },
  {
   "cell_type": "code",
   "execution_count": 9,
   "metadata": {},
   "outputs": [
    {
     "data": {
      "text/html": [
       "<div>\n",
       "<style scoped>\n",
       "    .dataframe tbody tr th:only-of-type {\n",
       "        vertical-align: middle;\n",
       "    }\n",
       "\n",
       "    .dataframe tbody tr th {\n",
       "        vertical-align: top;\n",
       "    }\n",
       "\n",
       "    .dataframe thead th {\n",
       "        text-align: right;\n",
       "    }\n",
       "</style>\n",
       "<table border=\"1\" class=\"dataframe\">\n",
       "  <thead>\n",
       "    <tr style=\"text-align: right;\">\n",
       "      <th></th>\n",
       "      <th>distance_from_home</th>\n",
       "      <th>distance_from_last_transaction</th>\n",
       "      <th>ratio_to_median_purchase_price</th>\n",
       "      <th>repeat_retailer</th>\n",
       "      <th>used_chip</th>\n",
       "      <th>used_pin_number</th>\n",
       "      <th>online_order</th>\n",
       "    </tr>\n",
       "  </thead>\n",
       "  <tbody>\n",
       "    <tr>\n",
       "      <th>679281</th>\n",
       "      <td>14.228889</td>\n",
       "      <td>1.639855</td>\n",
       "      <td>4.104065</td>\n",
       "      <td>1.0</td>\n",
       "      <td>1.0</td>\n",
       "      <td>0.0</td>\n",
       "      <td>0.0</td>\n",
       "    </tr>\n",
       "    <tr>\n",
       "      <th>414524</th>\n",
       "      <td>19.058904</td>\n",
       "      <td>1.409901</td>\n",
       "      <td>3.408421</td>\n",
       "      <td>1.0</td>\n",
       "      <td>1.0</td>\n",
       "      <td>0.0</td>\n",
       "      <td>1.0</td>\n",
       "    </tr>\n",
       "    <tr>\n",
       "      <th>778192</th>\n",
       "      <td>2.646068</td>\n",
       "      <td>1.984384</td>\n",
       "      <td>2.859258</td>\n",
       "      <td>1.0</td>\n",
       "      <td>1.0</td>\n",
       "      <td>0.0</td>\n",
       "      <td>1.0</td>\n",
       "    </tr>\n",
       "    <tr>\n",
       "      <th>495061</th>\n",
       "      <td>12.625542</td>\n",
       "      <td>0.060618</td>\n",
       "      <td>1.035773</td>\n",
       "      <td>1.0</td>\n",
       "      <td>1.0</td>\n",
       "      <td>0.0</td>\n",
       "      <td>0.0</td>\n",
       "    </tr>\n",
       "    <tr>\n",
       "      <th>158233</th>\n",
       "      <td>14.586982</td>\n",
       "      <td>1.332998</td>\n",
       "      <td>2.657770</td>\n",
       "      <td>1.0</td>\n",
       "      <td>0.0</td>\n",
       "      <td>0.0</td>\n",
       "      <td>0.0</td>\n",
       "    </tr>\n",
       "  </tbody>\n",
       "</table>\n",
       "</div>"
      ],
      "text/plain": [
       "        distance_from_home  distance_from_last_transaction  \\\n",
       "679281           14.228889                        1.639855   \n",
       "414524           19.058904                        1.409901   \n",
       "778192            2.646068                        1.984384   \n",
       "495061           12.625542                        0.060618   \n",
       "158233           14.586982                        1.332998   \n",
       "\n",
       "        ratio_to_median_purchase_price  repeat_retailer  used_chip  \\\n",
       "679281                        4.104065              1.0        1.0   \n",
       "414524                        3.408421              1.0        1.0   \n",
       "778192                        2.859258              1.0        1.0   \n",
       "495061                        1.035773              1.0        1.0   \n",
       "158233                        2.657770              1.0        0.0   \n",
       "\n",
       "        used_pin_number  online_order  \n",
       "679281              0.0           0.0  \n",
       "414524              0.0           1.0  \n",
       "778192              0.0           1.0  \n",
       "495061              0.0           0.0  \n",
       "158233              0.0           0.0  "
      ]
     },
     "execution_count": 9,
     "metadata": {},
     "output_type": "execute_result"
    }
   ],
   "source": [
    "# Stratified sampling on the class\n",
    "X_train, X_test, y_train, y_test = train_test_split(\n",
    "    raw_df.drop(\"fraud\", axis = 1), \n",
    "    raw_df[\"fraud\"], \n",
    "    test_size=0.80, \n",
    "    random_state=123, \n",
    "    stratify=raw_df[\"fraud\"]\n",
    ")\n",
    "X_train.head()"
   ]
  },
  {
   "cell_type": "code",
   "execution_count": 10,
   "metadata": {},
   "outputs": [
    {
     "data": {
      "text/html": [
       "<div>\n",
       "<style scoped>\n",
       "    .dataframe tbody tr th:only-of-type {\n",
       "        vertical-align: middle;\n",
       "    }\n",
       "\n",
       "    .dataframe tbody tr th {\n",
       "        vertical-align: top;\n",
       "    }\n",
       "\n",
       "    .dataframe thead th {\n",
       "        text-align: right;\n",
       "    }\n",
       "</style>\n",
       "<table border=\"1\" class=\"dataframe\">\n",
       "  <thead>\n",
       "    <tr style=\"text-align: right;\">\n",
       "      <th></th>\n",
       "      <th>Class</th>\n",
       "      <th>Count</th>\n",
       "    </tr>\n",
       "  </thead>\n",
       "  <tbody>\n",
       "    <tr>\n",
       "      <th>0</th>\n",
       "      <td>Non-Fraud</td>\n",
       "      <td>182519</td>\n",
       "    </tr>\n",
       "    <tr>\n",
       "      <th>1</th>\n",
       "      <td>Fraud</td>\n",
       "      <td>17481</td>\n",
       "    </tr>\n",
       "  </tbody>\n",
       "</table>\n",
       "</div>"
      ],
      "text/plain": [
       "       Class   Count\n",
       "0  Non-Fraud  182519\n",
       "1      Fraud   17481"
      ]
     },
     "metadata": {},
     "output_type": "display_data"
    }
   ],
   "source": [
    "class_count(y_train)"
   ]
  },
  {
   "cell_type": "markdown",
   "metadata": {},
   "source": [
    "Table X: A count of each class type in X_train"
   ]
  },
  {
   "cell_type": "code",
   "execution_count": 11,
   "metadata": {},
   "outputs": [],
   "source": [
    "# Separate majority and minority classes\n",
    "majority_class = X_train[y_train == 0]\n",
    "minority_class = X_train[y_train == 1]\n",
    "\n",
    "# Sample the majority class to balance the data\n",
    "n_samples = len(minority_class)\n",
    "majority_sampled = majority_class.sample(n=n_samples, replace=False, random_state=123)\n",
    "\n",
    "# Concatenate the minority and sampled majority class dataframes\n",
    "X_train_balanced = pd.concat([minority_class, majority_sampled], axis=0)\n",
    "y_train_balanced = pd.Series([1] * n_samples + [0] * n_samples)\n",
    "X_train_balanced, y_train_balanced = shuffle(X_train_balanced, y_train_balanced)"
   ]
  },
  {
   "cell_type": "code",
   "execution_count": 12,
   "metadata": {},
   "outputs": [
    {
     "data": {
      "text/html": [
       "<div>\n",
       "<style scoped>\n",
       "    .dataframe tbody tr th:only-of-type {\n",
       "        vertical-align: middle;\n",
       "    }\n",
       "\n",
       "    .dataframe tbody tr th {\n",
       "        vertical-align: top;\n",
       "    }\n",
       "\n",
       "    .dataframe thead th {\n",
       "        text-align: right;\n",
       "    }\n",
       "</style>\n",
       "<table border=\"1\" class=\"dataframe\">\n",
       "  <thead>\n",
       "    <tr style=\"text-align: right;\">\n",
       "      <th></th>\n",
       "      <th>Class</th>\n",
       "      <th>Count</th>\n",
       "    </tr>\n",
       "  </thead>\n",
       "  <tbody>\n",
       "    <tr>\n",
       "      <th>0</th>\n",
       "      <td>Non-Fraud</td>\n",
       "      <td>17481</td>\n",
       "    </tr>\n",
       "    <tr>\n",
       "      <th>1</th>\n",
       "      <td>Fraud</td>\n",
       "      <td>17481</td>\n",
       "    </tr>\n",
       "  </tbody>\n",
       "</table>\n",
       "</div>"
      ],
      "text/plain": [
       "       Class  Count\n",
       "0  Non-Fraud  17481\n",
       "1      Fraud  17481"
      ]
     },
     "metadata": {},
     "output_type": "display_data"
    }
   ],
   "source": [
    "class_count(y_train_balanced)"
   ]
  },
  {
   "cell_type": "markdown",
   "metadata": {},
   "source": [
    "Table X: The newly balanced training data"
   ]
  },
  {
   "cell_type": "markdown",
   "metadata": {},
   "source": [
    "kNN is an algorithm that relies on the distances between the observations to classify new instances. If the scales of the different features in the data set are not normalized, then the features with larger scales will dominate the distance metric which make it difficult for features with smaller scales to contribute meaningfully to the classification. In the case of credit card fraud, `distance_from_home` has a range of 10632.72 unit which is far large than the range our binary attributes. For this reason, the data will be scaled with `StandardScaler` before any other steps.\n",
    "\n",
    "The process of selecting predictors and tuning hyperparameters are closely related. It may be the case that a certain number of predictors would work well for a certain k value but poorly for other k values, so in order to find the optimal number of predictors we have to test it with several k values. By utilizing a 5-fold cross-validation and testing 35 combinations of predictors and k values, we can concurrently try different pairs of k value and predictors. In regards to predictor selection, we will be using `SelectKBest` to perform univariate feature selection using the ANOVA statistical test. Each potential predictor will be analyzed with our class to determine if there were a statistically significant relationship between the two."
   ]
  },
  {
   "cell_type": "code",
   "execution_count": 13,
   "metadata": {
    "tags": []
   },
   "outputs": [],
   "source": [
    "# Define the hyperparameters to tune\n",
    "param_grid = {\n",
    "    'selectkbest__k': [1, 2, 3, 4, 5, 6, 7],\n",
    "    'kneighborsclassifier__n_neighbors': [3, 5, 7, 9, 15]\n",
    "}\n",
    "\n",
    "knn_pred_selection_clf = make_pipeline(\n",
    "    StandardScaler(),\n",
    "    SelectKBest(score_func=f_classif),\n",
    "    KNeighborsClassifier()\n",
    ")\n",
    "\n",
    "knn_pred_selection_res = tune(\n",
    "    param_grid=param_grid, \n",
    "    pipeline=knn_pred_selection_clf, \n",
    "    X_train=X_train_balanced, \n",
    "    y_train=y_train_balanced, \n",
    "    scoring_func='f1_macro'\n",
    ")"
   ]
  },
  {
   "cell_type": "code",
   "execution_count": 14,
   "metadata": {},
   "outputs": [
    {
     "data": {
      "text/html": [
       "<div>\n",
       "<style scoped>\n",
       "    .dataframe tbody tr th:only-of-type {\n",
       "        vertical-align: middle;\n",
       "    }\n",
       "\n",
       "    .dataframe tbody tr th {\n",
       "        vertical-align: top;\n",
       "    }\n",
       "\n",
       "    .dataframe thead th {\n",
       "        text-align: right;\n",
       "    }\n",
       "</style>\n",
       "<table border=\"1\" class=\"dataframe\">\n",
       "  <thead>\n",
       "    <tr style=\"text-align: right;\">\n",
       "      <th></th>\n",
       "      <th>Mean Test Score</th>\n",
       "      <th>selectkbest__k</th>\n",
       "      <th>kneighborsclassifier__n_neighbors</th>\n",
       "    </tr>\n",
       "  </thead>\n",
       "  <tbody>\n",
       "    <tr>\n",
       "      <th>6</th>\n",
       "      <td>0.994394</td>\n",
       "      <td>3</td>\n",
       "      <td>7</td>\n",
       "    </tr>\n",
       "    <tr>\n",
       "      <th>13</th>\n",
       "      <td>0.993822</td>\n",
       "      <td>5</td>\n",
       "      <td>7</td>\n",
       "    </tr>\n",
       "    <tr>\n",
       "      <th>20</th>\n",
       "      <td>0.993107</td>\n",
       "      <td>7</td>\n",
       "      <td>7</td>\n",
       "    </tr>\n",
       "    <tr>\n",
       "      <th>27</th>\n",
       "      <td>0.992678</td>\n",
       "      <td>9</td>\n",
       "      <td>7</td>\n",
       "    </tr>\n",
       "    <tr>\n",
       "      <th>34</th>\n",
       "      <td>0.991905</td>\n",
       "      <td>15</td>\n",
       "      <td>7</td>\n",
       "    </tr>\n",
       "    <tr>\n",
       "      <th>5</th>\n",
       "      <td>0.990904</td>\n",
       "      <td>3</td>\n",
       "      <td>6</td>\n",
       "    </tr>\n",
       "    <tr>\n",
       "      <th>12</th>\n",
       "      <td>0.989760</td>\n",
       "      <td>5</td>\n",
       "      <td>6</td>\n",
       "    </tr>\n",
       "    <tr>\n",
       "      <th>19</th>\n",
       "      <td>0.988873</td>\n",
       "      <td>7</td>\n",
       "      <td>6</td>\n",
       "    </tr>\n",
       "    <tr>\n",
       "      <th>26</th>\n",
       "      <td>0.988329</td>\n",
       "      <td>9</td>\n",
       "      <td>6</td>\n",
       "    </tr>\n",
       "    <tr>\n",
       "      <th>33</th>\n",
       "      <td>0.987242</td>\n",
       "      <td>15</td>\n",
       "      <td>6</td>\n",
       "    </tr>\n",
       "  </tbody>\n",
       "</table>\n",
       "</div>"
      ],
      "text/plain": [
       "    Mean Test Score  selectkbest__k  kneighborsclassifier__n_neighbors\n",
       "6          0.994394               3                                  7\n",
       "13         0.993822               5                                  7\n",
       "20         0.993107               7                                  7\n",
       "27         0.992678               9                                  7\n",
       "34         0.991905              15                                  7\n",
       "5          0.990904               3                                  6\n",
       "12         0.989760               5                                  6\n",
       "19         0.988873               7                                  6\n",
       "26         0.988329               9                                  6\n",
       "33         0.987242              15                                  6"
      ]
     },
     "execution_count": 14,
     "metadata": {},
     "output_type": "execute_result"
    }
   ],
   "source": [
    "knn_pred_selection_res.sort_values(by='Mean Test Score', ascending = False).head(10)"
   ]
  },
  {
   "cell_type": "markdown",
   "metadata": {},
   "source": [
    "Table X: The 10 hyperparamter combinations that give the most efficient validation score"
   ]
  },
  {
   "cell_type": "markdown",
   "metadata": {},
   "source": [
    "# Todo replace Table X with the table number of the above table\n",
    "\n",
    "Table X notably shows that the top 5 accurate pair of hyperparameters use all 7 predictors from our original data set. That means that each of the predictors are an important component to correctly classifying the label of any incoming transactions. We will now look closer into different k values over a larger range that what is shown in Table X by looking at odd values between [3, 69]"
   ]
  },
  {
   "cell_type": "code",
   "execution_count": 15,
   "metadata": {
    "tags": []
   },
   "outputs": [
    {
     "data": {
      "text/html": [
       "<div>\n",
       "<style scoped>\n",
       "    .dataframe tbody tr th:only-of-type {\n",
       "        vertical-align: middle;\n",
       "    }\n",
       "\n",
       "    .dataframe tbody tr th {\n",
       "        vertical-align: top;\n",
       "    }\n",
       "\n",
       "    .dataframe thead th {\n",
       "        text-align: right;\n",
       "    }\n",
       "</style>\n",
       "<table border=\"1\" class=\"dataframe\">\n",
       "  <thead>\n",
       "    <tr style=\"text-align: right;\">\n",
       "      <th></th>\n",
       "      <th>Mean Test Score</th>\n",
       "      <th>kneighborsclassifier__n_neighbors</th>\n",
       "    </tr>\n",
       "  </thead>\n",
       "  <tbody>\n",
       "    <tr>\n",
       "      <th>0</th>\n",
       "      <td>0.994413</td>\n",
       "      <td>3</td>\n",
       "    </tr>\n",
       "    <tr>\n",
       "      <th>1</th>\n",
       "      <td>0.993845</td>\n",
       "      <td>5</td>\n",
       "    </tr>\n",
       "    <tr>\n",
       "      <th>2</th>\n",
       "      <td>0.993134</td>\n",
       "      <td>7</td>\n",
       "    </tr>\n",
       "    <tr>\n",
       "      <th>3</th>\n",
       "      <td>0.992710</td>\n",
       "      <td>9</td>\n",
       "    </tr>\n",
       "    <tr>\n",
       "      <th>4</th>\n",
       "      <td>0.992287</td>\n",
       "      <td>11</td>\n",
       "    </tr>\n",
       "    <tr>\n",
       "      <th>5</th>\n",
       "      <td>0.992284</td>\n",
       "      <td>13</td>\n",
       "    </tr>\n",
       "    <tr>\n",
       "      <th>6</th>\n",
       "      <td>0.991942</td>\n",
       "      <td>15</td>\n",
       "    </tr>\n",
       "    <tr>\n",
       "      <th>7</th>\n",
       "      <td>0.991406</td>\n",
       "      <td>17</td>\n",
       "    </tr>\n",
       "    <tr>\n",
       "      <th>8</th>\n",
       "      <td>0.991033</td>\n",
       "      <td>19</td>\n",
       "    </tr>\n",
       "    <tr>\n",
       "      <th>9</th>\n",
       "      <td>0.990720</td>\n",
       "      <td>21</td>\n",
       "    </tr>\n",
       "    <tr>\n",
       "      <th>10</th>\n",
       "      <td>0.990348</td>\n",
       "      <td>23</td>\n",
       "    </tr>\n",
       "    <tr>\n",
       "      <th>11</th>\n",
       "      <td>0.990036</td>\n",
       "      <td>25</td>\n",
       "    </tr>\n",
       "    <tr>\n",
       "      <th>12</th>\n",
       "      <td>0.989752</td>\n",
       "      <td>27</td>\n",
       "    </tr>\n",
       "    <tr>\n",
       "      <th>13</th>\n",
       "      <td>0.989468</td>\n",
       "      <td>29</td>\n",
       "    </tr>\n",
       "    <tr>\n",
       "      <th>14</th>\n",
       "      <td>0.989238</td>\n",
       "      <td>31</td>\n",
       "    </tr>\n",
       "    <tr>\n",
       "      <th>15</th>\n",
       "      <td>0.988897</td>\n",
       "      <td>33</td>\n",
       "    </tr>\n",
       "    <tr>\n",
       "      <th>16</th>\n",
       "      <td>0.988526</td>\n",
       "      <td>35</td>\n",
       "    </tr>\n",
       "    <tr>\n",
       "      <th>17</th>\n",
       "      <td>0.987957</td>\n",
       "      <td>37</td>\n",
       "    </tr>\n",
       "    <tr>\n",
       "      <th>18</th>\n",
       "      <td>0.987730</td>\n",
       "      <td>39</td>\n",
       "    </tr>\n",
       "    <tr>\n",
       "      <th>19</th>\n",
       "      <td>0.987330</td>\n",
       "      <td>41</td>\n",
       "    </tr>\n",
       "    <tr>\n",
       "      <th>20</th>\n",
       "      <td>0.986904</td>\n",
       "      <td>43</td>\n",
       "    </tr>\n",
       "    <tr>\n",
       "      <th>21</th>\n",
       "      <td>0.986534</td>\n",
       "      <td>45</td>\n",
       "    </tr>\n",
       "    <tr>\n",
       "      <th>22</th>\n",
       "      <td>0.986446</td>\n",
       "      <td>47</td>\n",
       "    </tr>\n",
       "    <tr>\n",
       "      <th>23</th>\n",
       "      <td>0.986164</td>\n",
       "      <td>49</td>\n",
       "    </tr>\n",
       "    <tr>\n",
       "      <th>24</th>\n",
       "      <td>0.985798</td>\n",
       "      <td>51</td>\n",
       "    </tr>\n",
       "    <tr>\n",
       "      <th>25</th>\n",
       "      <td>0.985713</td>\n",
       "      <td>53</td>\n",
       "    </tr>\n",
       "    <tr>\n",
       "      <th>26</th>\n",
       "      <td>0.985428</td>\n",
       "      <td>55</td>\n",
       "    </tr>\n",
       "    <tr>\n",
       "      <th>27</th>\n",
       "      <td>0.985034</td>\n",
       "      <td>57</td>\n",
       "    </tr>\n",
       "    <tr>\n",
       "      <th>28</th>\n",
       "      <td>0.985060</td>\n",
       "      <td>59</td>\n",
       "    </tr>\n",
       "    <tr>\n",
       "      <th>29</th>\n",
       "      <td>0.984750</td>\n",
       "      <td>61</td>\n",
       "    </tr>\n",
       "    <tr>\n",
       "      <th>30</th>\n",
       "      <td>0.984809</td>\n",
       "      <td>63</td>\n",
       "    </tr>\n",
       "    <tr>\n",
       "      <th>31</th>\n",
       "      <td>0.984694</td>\n",
       "      <td>65</td>\n",
       "    </tr>\n",
       "    <tr>\n",
       "      <th>32</th>\n",
       "      <td>0.984411</td>\n",
       "      <td>67</td>\n",
       "    </tr>\n",
       "    <tr>\n",
       "      <th>33</th>\n",
       "      <td>0.984270</td>\n",
       "      <td>69</td>\n",
       "    </tr>\n",
       "  </tbody>\n",
       "</table>\n",
       "</div>"
      ],
      "text/plain": [
       "    Mean Test Score  kneighborsclassifier__n_neighbors\n",
       "0          0.994413                                  3\n",
       "1          0.993845                                  5\n",
       "2          0.993134                                  7\n",
       "3          0.992710                                  9\n",
       "4          0.992287                                 11\n",
       "5          0.992284                                 13\n",
       "6          0.991942                                 15\n",
       "7          0.991406                                 17\n",
       "8          0.991033                                 19\n",
       "9          0.990720                                 21\n",
       "10         0.990348                                 23\n",
       "11         0.990036                                 25\n",
       "12         0.989752                                 27\n",
       "13         0.989468                                 29\n",
       "14         0.989238                                 31\n",
       "15         0.988897                                 33\n",
       "16         0.988526                                 35\n",
       "17         0.987957                                 37\n",
       "18         0.987730                                 39\n",
       "19         0.987330                                 41\n",
       "20         0.986904                                 43\n",
       "21         0.986534                                 45\n",
       "22         0.986446                                 47\n",
       "23         0.986164                                 49\n",
       "24         0.985798                                 51\n",
       "25         0.985713                                 53\n",
       "26         0.985428                                 55\n",
       "27         0.985034                                 57\n",
       "28         0.985060                                 59\n",
       "29         0.984750                                 61\n",
       "30         0.984809                                 63\n",
       "31         0.984694                                 65\n",
       "32         0.984411                                 67\n",
       "33         0.984270                                 69"
      ]
     },
     "execution_count": 15,
     "metadata": {},
     "output_type": "execute_result"
    }
   ],
   "source": [
    "param_grid = {\n",
    "    'kneighborsclassifier__n_neighbors': [2*i + 1 for i in range(1, 35)]\n",
    "}\n",
    "\n",
    "knn_hyperparameter_selection_clf = make_pipeline(\n",
    "    StandardScaler(),\n",
    "    KNeighborsClassifier())\n",
    "\n",
    "# Perform grid search with 5-fold cross validation\n",
    "knn_hyperparameter_selection_res = tune(\n",
    "    param_grid=param_grid, \n",
    "    pipeline=knn_hyperparameter_selection_clf, \n",
    "    X_train=X_train_balanced, \n",
    "    y_train=y_train_balanced, \n",
    "    scoring_func='f1'\n",
    ")\n",
    "\n",
    "knn_hyperparameter_selection_res"
   ]
  },
  {
   "cell_type": "code",
   "execution_count": 47,
   "metadata": {},
   "outputs": [
    {
     "ename": "AttributeError",
     "evalue": "module 'sklearn.metrics' has no attribute 'get_scorer_names'",
     "output_type": "error",
     "traceback": [
      "\u001b[0;31m---------------------------------------------------------------------------\u001b[0m",
      "\u001b[0;31mAttributeError\u001b[0m                            Traceback (most recent call last)",
      "\u001b[0;32m/var/folders/xl/q57zmp5d3_s0n__hklhm8h3m0000gn/T/ipykernel_7195/4143262643.py\u001b[0m in \u001b[0;36m<module>\u001b[0;34m\u001b[0m\n\u001b[1;32m      2\u001b[0m \u001b[0;34m\u001b[0m\u001b[0m\n\u001b[1;32m      3\u001b[0m \u001b[0;34m\u001b[0m\u001b[0m\n\u001b[0;32m----> 4\u001b[0;31m \u001b[0mmetrics\u001b[0m\u001b[0;34m.\u001b[0m\u001b[0mget_scorer_names\u001b[0m\u001b[0;34m(\u001b[0m\u001b[0;34m)\u001b[0m\u001b[0;34m\u001b[0m\u001b[0;34m\u001b[0m\u001b[0m\n\u001b[0m",
      "\u001b[0;31mAttributeError\u001b[0m: module 'sklearn.metrics' has no attribute 'get_scorer_names'"
     ]
    }
   ],
   "source": [
    "from sklearn import metrics\n",
    "\n",
    "\n",
    "metrics.get_scorer_names()"
   ]
  },
  {
   "cell_type": "code",
   "execution_count": 19,
   "metadata": {},
   "outputs": [
    {
     "data": {
      "image/png": "[encoded data removed]",
      "text/plain": [
       "<Figure size 640x480 with 1 Axes>"
      ]
     },
     "metadata": {},
     "output_type": "display_data"
    }
   ],
   "source": [
    "# Create a new figure and axis\n",
    "fig, ax = plt.subplots()\n",
    "\n",
    "# Plot the data as a line chart\n",
    "ax.plot(\n",
    "    knn_hyperparameter_selection_res[\"kneighborsclassifier__n_neighbors\"],\n",
    "    knn_hyperparameter_selection_res[\"Mean Test Score\"]\n",
    ")\n",
    "\n",
    "# Set the title and axis labels\n",
    "ax.set_title(\"Validation Score vs K Value\")\n",
    "ax.set_xlabel(\"k Value\")\n",
    "ax.set_ylabel(\"Mean Validation Score (F1 Score)\")\n",
    "\n",
    "# Show the chart\n",
    "plt.show()"
   ]
  },
  {
   "cell_type": "markdown",
   "metadata": {},
   "source": [
    "As shown from the above graph, most k values are very accurate in determining the transaction label only differing by a percent. We've decided to use a k value of 3 because it yielded the most accurate score in combination with out predictor selection as shown in table X (same value as the todo from above).\n",
    "\n",
    "The final kNN classifier can know be trained so we can test it on our testing data."
   ]
  },
  {
   "cell_type": "code",
   "execution_count": 20,
   "metadata": {},
   "outputs": [
    {
     "data": {
      "text/plain": [
       "Pipeline(steps=[('standardscaler', StandardScaler()),\n",
       "                ('kneighborsclassifier', KNeighborsClassifier(n_neighbors=3))])"
      ]
     },
     "execution_count": 20,
     "metadata": {},
     "output_type": "execute_result"
    }
   ],
   "source": [
    "knn_clf = make_pipeline(\n",
    "    StandardScaler(),\n",
    "    KNeighborsClassifier(n_neighbors = 3))\n",
    "\n",
    "knn_clf.fit(X_train_balanced, y_train_balanced)"
   ]
  },
  {
   "cell_type": "code",
   "execution_count": 21,
   "metadata": {
    "tags": []
   },
   "outputs": [
    {
     "data": {
      "text/plain": [
       "0.9584970462975683"
      ]
     },
     "execution_count": 21,
     "metadata": {},
     "output_type": "execute_result"
    }
   ],
   "source": [
    "knn_pred = knn_clf.predict(X_test)\n",
    "knn_f1score = f1_score(y_test, knn_pred)\n",
    "knn_f1score"
   ]
  },
  {
   "cell_type": "code",
   "execution_count": 22,
   "metadata": {},
   "outputs": [
    {
     "data": {
      "image/png": "[encoded data removed]",
      "text/plain": [
       "<Figure size 640x480 with 2 Axes>"
      ]
     },
     "metadata": {},
     "output_type": "display_data"
    }
   ],
   "source": [
    "conf_mat_maker(y_test, knn_pred)"
   ]
  },
  {
   "cell_type": "markdown",
   "metadata": {},
   "source": [
    "# Todo include analysis of results, talk about accuracy, f1 score, if this is good enough, possible reasons from high fraud misclassifications.\n",
    "\n",
    "## @Jonathan: Attempted to briefly summarize the results we had for kNN -- let me know if there needs to be changes /  if my interpretation is correct Looks good to me\n",
    "From the analysis above, kNN classification seems to perform well for classifying credit card transactions. With an F1 score of ~0.95, our kNN model shows a strong ability to identify positive cases (recall) and be accurate with the cases it  identifies (precision). As shown in the confusion matrix above, the model accurately predicted non-fraud ~99% (= 724189/730078) of the time and fraud ~99% (= 69769/69922) of the time. \n",
    "\n",
    "Although the kNN classifier performs well for our data set and analysis, we make note that a downside of this model is that kNN is a slow predictor when the volume of observations rises. This is a concerning issue as it pertains to predicting the large amount of credit card transactions that occur daily as a slow classification of whether a transaction was fraud or not could be the difference between whether fraud occurs and if so, how much money the bank loses. Therefore, we acknowledge that while kNN performed well for our analysis, it may not be sufficient for a real world setting."
   ]
  },
  {
   "cell_type": "markdown",
   "metadata": {},
   "source": [
    "# Support Vector Machines"
   ]
  },
  {
   "cell_type": "markdown",
   "metadata": {},
   "source": [
    "Next we'll analyze the effectiveness of support vector machine classifiers in predicting credit card fraud. The two forms of kernels that we will explore are linear kernels and radial basis function kernels. If our data set is linearly separable, a linear kernel svm would be ideal because it's a parametric model which means it's only required to store a fixed number parameters, the coefficients of the hyperplane that separates the datas into non fraud and fraud. While it's possible to model more complex data using an RBF kernel, because it's a non parametric model, the cost grows with the size of our training data, which is not ideal in our case due to the number of transactions.\n",
    "\n",
    "Similar to kNN, we will have to deal with the unbalanced data set. In the case of SVM it is possible tp use the `class_weight` argument to add bias to the minority class to balance the data set but this also means that the algorithm with need to be fitted with 200k training examples. Due to the computational limitations of our computer, we will reuse the downsampled data that we used in kNN classifier. Additionally, it is necessary to normalize the data because SVM is a distance based algorithm that tries to maximize the distance between the hyperplane and the support vectors.\n",
    "\n",
    "We'll first begin creating our linear SVM classifier, by tuning our regularization hyperparameter `C`."
   ]
  },
  {
   "cell_type": "code",
   "execution_count": 23,
   "metadata": {
    "tags": []
   },
   "outputs": [
    {
     "name": "stderr",
     "output_type": "stream",
     "text": [
      "/Users/user/opt/anaconda3/lib/python3.9/site-packages/sklearn/svm/_base.py:1206: ConvergenceWarning: Liblinear failed to converge, increase the number of iterations.\n",
      "  warnings.warn(\n",
      "/Users/user/opt/anaconda3/lib/python3.9/site-packages/sklearn/svm/_base.py:1206: ConvergenceWarning: Liblinear failed to converge, increase the number of iterations.\n",
      "  warnings.warn(\n",
      "/Users/user/opt/anaconda3/lib/python3.9/site-packages/sklearn/svm/_base.py:1206: ConvergenceWarning: Liblinear failed to converge, increase the number of iterations.\n",
      "  warnings.warn(\n",
      "/Users/user/opt/anaconda3/lib/python3.9/site-packages/sklearn/svm/_base.py:1206: ConvergenceWarning: Liblinear failed to converge, increase the number of iterations.\n",
      "  warnings.warn(\n",
      "/Users/user/opt/anaconda3/lib/python3.9/site-packages/sklearn/svm/_base.py:1206: ConvergenceWarning: Liblinear failed to converge, increase the number of iterations.\n",
      "  warnings.warn(\n",
      "/Users/user/opt/anaconda3/lib/python3.9/site-packages/sklearn/svm/_base.py:1206: ConvergenceWarning: Liblinear failed to converge, increase the number of iterations.\n",
      "  warnings.warn(\n",
      "/Users/user/opt/anaconda3/lib/python3.9/site-packages/sklearn/svm/_base.py:1206: ConvergenceWarning: Liblinear failed to converge, increase the number of iterations.\n",
      "  warnings.warn(\n",
      "/Users/user/opt/anaconda3/lib/python3.9/site-packages/sklearn/svm/_base.py:1206: ConvergenceWarning: Liblinear failed to converge, increase the number of iterations.\n",
      "  warnings.warn(\n",
      "/Users/user/opt/anaconda3/lib/python3.9/site-packages/sklearn/svm/_base.py:1206: ConvergenceWarning: Liblinear failed to converge, increase the number of iterations.\n",
      "  warnings.warn(\n",
      "/Users/user/opt/anaconda3/lib/python3.9/site-packages/sklearn/svm/_base.py:1206: ConvergenceWarning: Liblinear failed to converge, increase the number of iterations.\n",
      "  warnings.warn(\n",
      "/Users/user/opt/anaconda3/lib/python3.9/site-packages/sklearn/svm/_base.py:1206: ConvergenceWarning: Liblinear failed to converge, increase the number of iterations.\n",
      "  warnings.warn(\n",
      "/Users/user/opt/anaconda3/lib/python3.9/site-packages/sklearn/svm/_base.py:1206: ConvergenceWarning: Liblinear failed to converge, increase the number of iterations.\n",
      "  warnings.warn(\n",
      "/Users/user/opt/anaconda3/lib/python3.9/site-packages/sklearn/svm/_base.py:1206: ConvergenceWarning: Liblinear failed to converge, increase the number of iterations.\n",
      "  warnings.warn(\n",
      "/Users/user/opt/anaconda3/lib/python3.9/site-packages/sklearn/svm/_base.py:1206: ConvergenceWarning: Liblinear failed to converge, increase the number of iterations.\n",
      "  warnings.warn(\n",
      "/Users/user/opt/anaconda3/lib/python3.9/site-packages/sklearn/svm/_base.py:1206: ConvergenceWarning: Liblinear failed to converge, increase the number of iterations.\n",
      "  warnings.warn(\n",
      "/Users/user/opt/anaconda3/lib/python3.9/site-packages/sklearn/svm/_base.py:1206: ConvergenceWarning: Liblinear failed to converge, increase the number of iterations.\n",
      "  warnings.warn(\n",
      "/Users/user/opt/anaconda3/lib/python3.9/site-packages/sklearn/svm/_base.py:1206: ConvergenceWarning: Liblinear failed to converge, increase the number of iterations.\n",
      "  warnings.warn(\n",
      "/Users/user/opt/anaconda3/lib/python3.9/site-packages/sklearn/svm/_base.py:1206: ConvergenceWarning: Liblinear failed to converge, increase the number of iterations.\n",
      "  warnings.warn(\n",
      "/Users/user/opt/anaconda3/lib/python3.9/site-packages/sklearn/svm/_base.py:1206: ConvergenceWarning: Liblinear failed to converge, increase the number of iterations.\n",
      "  warnings.warn(\n",
      "/Users/user/opt/anaconda3/lib/python3.9/site-packages/sklearn/svm/_base.py:1206: ConvergenceWarning: Liblinear failed to converge, increase the number of iterations.\n",
      "  warnings.warn(\n",
      "/Users/user/opt/anaconda3/lib/python3.9/site-packages/sklearn/svm/_base.py:1206: ConvergenceWarning: Liblinear failed to converge, increase the number of iterations.\n",
      "  warnings.warn(\n",
      "/Users/user/opt/anaconda3/lib/python3.9/site-packages/sklearn/svm/_base.py:1206: ConvergenceWarning: Liblinear failed to converge, increase the number of iterations.\n",
      "  warnings.warn(\n",
      "/Users/user/opt/anaconda3/lib/python3.9/site-packages/sklearn/svm/_base.py:1206: ConvergenceWarning: Liblinear failed to converge, increase the number of iterations.\n",
      "  warnings.warn(\n",
      "/Users/user/opt/anaconda3/lib/python3.9/site-packages/sklearn/svm/_base.py:1206: ConvergenceWarning: Liblinear failed to converge, increase the number of iterations.\n",
      "  warnings.warn(\n",
      "/Users/user/opt/anaconda3/lib/python3.9/site-packages/sklearn/svm/_base.py:1206: ConvergenceWarning: Liblinear failed to converge, increase the number of iterations.\n",
      "  warnings.warn(\n",
      "/Users/user/opt/anaconda3/lib/python3.9/site-packages/sklearn/svm/_base.py:1206: ConvergenceWarning: Liblinear failed to converge, increase the number of iterations.\n",
      "  warnings.warn(\n"
     ]
    },
    {
     "data": {
      "text/html": [
       "<div>\n",
       "<style scoped>\n",
       "    .dataframe tbody tr th:only-of-type {\n",
       "        vertical-align: middle;\n",
       "    }\n",
       "\n",
       "    .dataframe tbody tr th {\n",
       "        vertical-align: top;\n",
       "    }\n",
       "\n",
       "    .dataframe thead th {\n",
       "        text-align: right;\n",
       "    }\n",
       "</style>\n",
       "<table border=\"1\" class=\"dataframe\">\n",
       "  <thead>\n",
       "    <tr style=\"text-align: right;\">\n",
       "      <th></th>\n",
       "      <th>Mean Test Score</th>\n",
       "      <th>linearsvc__C</th>\n",
       "    </tr>\n",
       "  </thead>\n",
       "  <tbody>\n",
       "    <tr>\n",
       "      <th>0</th>\n",
       "      <td>0.932897</td>\n",
       "      <td>0.1</td>\n",
       "    </tr>\n",
       "    <tr>\n",
       "      <th>1</th>\n",
       "      <td>0.934956</td>\n",
       "      <td>1.0</td>\n",
       "    </tr>\n",
       "    <tr>\n",
       "      <th>2</th>\n",
       "      <td>0.938891</td>\n",
       "      <td>10.0</td>\n",
       "    </tr>\n",
       "    <tr>\n",
       "      <th>3</th>\n",
       "      <td>0.918986</td>\n",
       "      <td>100.0</td>\n",
       "    </tr>\n",
       "    <tr>\n",
       "      <th>4</th>\n",
       "      <td>0.931540</td>\n",
       "      <td>1000.0</td>\n",
       "    </tr>\n",
       "  </tbody>\n",
       "</table>\n",
       "</div>"
      ],
      "text/plain": [
       "   Mean Test Score  linearsvc__C\n",
       "0         0.932897           0.1\n",
       "1         0.934956           1.0\n",
       "2         0.938891          10.0\n",
       "3         0.918986         100.0\n",
       "4         0.931540        1000.0"
      ]
     },
     "execution_count": 23,
     "metadata": {},
     "output_type": "execute_result"
    }
   ],
   "source": [
    "np.random.seed(1)\n",
    "\n",
    "param_grid = {\n",
    "    'linearsvc__C': [0.1, 1, 10, 100, 1000]\n",
    "}\n",
    "\n",
    "# Create an SVM classifier with a linear kernel\n",
    "linear_svm_hyperparameter_selection_clf = make_pipeline(StandardScaler(), LinearSVC(max_iter=1000, random_state=123))\n",
    "\n",
    "# Perform grid search with 5-fold cross validation\n",
    "linear_svm_hyperparameter_selection_res = tune(\n",
    "    param_grid=param_grid,\n",
    "    pipeline=linear_svm_hyperparameter_selection_clf,\n",
    "    X_train=X_train_balanced,\n",
    "    y_train=y_train_balanced,\n",
    "    scoring_func='f1_macro'\n",
    ")\n",
    "\n",
    "linear_svm_hyperparameter_selection_res"
   ]
  },
  {
   "cell_type": "code",
   "execution_count": 24,
   "metadata": {},
   "outputs": [
    {
     "data": {
      "image/png": "[encoded data removed]",
      "text/plain": [
       "<Figure size 640x480 with 1 Axes>"
      ]
     },
     "metadata": {},
     "output_type": "display_data"
    }
   ],
   "source": [
    "plt.plot(\n",
    "    linear_svm_hyperparameter_selection_res[\"linearsvc__C\"],\n",
    "    linear_svm_hyperparameter_selection_res[\"Mean Test Score\"]\n",
    ")\n",
    "\n",
    "# Sets log scale for regularization C\n",
    "plt.xscale(\"log\")\n",
    "\n",
    "# Axis and Title labels\n",
    "plt.xlabel(\"Regularization C\")\n",
    "plt.ylabel(\"Mean Test Score (F1 score)\")\n",
    "plt.title(\"Linear SVC Tuning Results\")\n",
    "\n",
    "plt.show()"
   ]
  },
  {
   "cell_type": "markdown",
   "metadata": {},
   "source": [
    "The F1 score is optimized between `C = 10` and `C = 100`. Since a larger regularization constant biases. For our final linear support vector classifier, we will use `C = 10` as the larger the regularization parameter is the more likely it is to overfit the training data. "
   ]
  },
  {
   "cell_type": "code",
   "execution_count": 25,
   "metadata": {},
   "outputs": [
    {
     "name": "stderr",
     "output_type": "stream",
     "text": [
      "/Users/user/opt/anaconda3/lib/python3.9/site-packages/sklearn/svm/_base.py:1206: ConvergenceWarning: Liblinear failed to converge, increase the number of iterations.\n",
      "  warnings.warn(\n"
     ]
    },
    {
     "data": {
      "text/plain": [
       "0.8410908820923209"
      ]
     },
     "execution_count": 25,
     "metadata": {},
     "output_type": "execute_result"
    }
   ],
   "source": [
    "np.random.seed(1)\n",
    "# Fit the classifier to the training data\n",
    "linear_svm_clf = make_pipeline(StandardScaler(), LinearSVC(max_iter=5000, random_state=123, C=10))\n",
    "linear_svm_clf.fit(X_train_balanced, y_train_balanced)\n",
    "\n",
    "linear_svm_pred = linear_svm_clf.predict(X_test)\n",
    "\n",
    "linear_svm_f1score = f1_score(y_true=y_test, y_pred=linear_svm_pred, average='macro')\n",
    "linear_svm_f1score"
   ]
  },
  {
   "cell_type": "code",
   "execution_count": 26,
   "metadata": {},
   "outputs": [
    {
     "data": {
      "image/png": "[encoded data removed]",
      "text/plain": [
       "<Figure size 640x480 with 2 Axes>"
      ]
     },
     "metadata": {},
     "output_type": "display_data"
    }
   ],
   "source": [
    "conf_mat_maker(y_test, linear_svm_pred)"
   ]
  },
  {
   "cell_type": "markdown",
   "metadata": {},
   "source": [
    "# @Jon\n",
    "* Discussion of results should be similar to the things you'd include in knn in terms of how well it did.\n",
    "    * basically F1 score and accuracy?\n",
    "    * Yes discuss F1 score, accuracy and why it's bad. Specifically note that it gets fraud cases wrong 48% of the time it's actually fraud.\n",
    "\n",
    "* The obvious thing to note is it does a poor job predicting fraud cases which signify the dataset is not linearly separable. (There's no good hyperplane to fit.)\n",
    "* Then include something about trying rbf which allows us to model non parametric data.\n",
    "    * rbf measures non-parametric like kNN right? and linear svm doesn't measure non-parametric?\n",
    "    * RBF is non-parametric so it's slower to train. linear svm is parametric so it's more efficient but as we see from the confusion matrix, it's not very good.\n",
    "\n",
    "https://stats.stackexchange.com/questions/73032/linear-kernel-and-non-linear-kernel-for-support-vector-machine\n",
    "\n",
    "This point is good to note:\n",
    "> It's been shown that the linear kernel is a degenerate version of RBF, hence the linear kernel is never more accurate than a properly tuned RBF kernel. Quoting the abstract from the paper I linked:\n",
    "\n",
    "\n",
    "\n"
   ]
  },
  {
   "cell_type": "code",
   "execution_count": 27,
   "metadata": {},
   "outputs": [
    {
     "name": "stderr",
     "output_type": "stream",
     "text": [
      "/Users/user/opt/anaconda3/lib/python3.9/site-packages/sklearn/svm/_base.py:284: ConvergenceWarning: Solver terminated early (max_iter=1000).  Consider pre-processing your data with StandardScaler or MinMaxScaler.\n",
      "  warnings.warn(\n",
      "/Users/user/opt/anaconda3/lib/python3.9/site-packages/sklearn/svm/_base.py:284: ConvergenceWarning: Solver terminated early (max_iter=1000).  Consider pre-processing your data with StandardScaler or MinMaxScaler.\n",
      "  warnings.warn(\n",
      "/Users/user/opt/anaconda3/lib/python3.9/site-packages/sklearn/svm/_base.py:284: ConvergenceWarning: Solver terminated early (max_iter=1000).  Consider pre-processing your data with StandardScaler or MinMaxScaler.\n",
      "  warnings.warn(\n",
      "/Users/user/opt/anaconda3/lib/python3.9/site-packages/sklearn/svm/_base.py:284: ConvergenceWarning: Solver terminated early (max_iter=1000).  Consider pre-processing your data with StandardScaler or MinMaxScaler.\n",
      "  warnings.warn(\n",
      "/Users/user/opt/anaconda3/lib/python3.9/site-packages/sklearn/svm/_base.py:284: ConvergenceWarning: Solver terminated early (max_iter=1000).  Consider pre-processing your data with StandardScaler or MinMaxScaler.\n",
      "  warnings.warn(\n",
      "/Users/user/opt/anaconda3/lib/python3.9/site-packages/sklearn/svm/_base.py:284: ConvergenceWarning: Solver terminated early (max_iter=1000).  Consider pre-processing your data with StandardScaler or MinMaxScaler.\n",
      "  warnings.warn(\n",
      "/Users/user/opt/anaconda3/lib/python3.9/site-packages/sklearn/svm/_base.py:284: ConvergenceWarning: Solver terminated early (max_iter=1000).  Consider pre-processing your data with StandardScaler or MinMaxScaler.\n",
      "  warnings.warn(\n",
      "/Users/user/opt/anaconda3/lib/python3.9/site-packages/sklearn/svm/_base.py:284: ConvergenceWarning: Solver terminated early (max_iter=1000).  Consider pre-processing your data with StandardScaler or MinMaxScaler.\n",
      "  warnings.warn(\n",
      "/Users/user/opt/anaconda3/lib/python3.9/site-packages/sklearn/svm/_base.py:284: ConvergenceWarning: Solver terminated early (max_iter=1000).  Consider pre-processing your data with StandardScaler or MinMaxScaler.\n",
      "  warnings.warn(\n",
      "/Users/user/opt/anaconda3/lib/python3.9/site-packages/sklearn/svm/_base.py:284: ConvergenceWarning: Solver terminated early (max_iter=1000).  Consider pre-processing your data with StandardScaler or MinMaxScaler.\n",
      "  warnings.warn(\n",
      "/Users/user/opt/anaconda3/lib/python3.9/site-packages/sklearn/svm/_base.py:284: ConvergenceWarning: Solver terminated early (max_iter=1000).  Consider pre-processing your data with StandardScaler or MinMaxScaler.\n",
      "  warnings.warn(\n",
      "/Users/user/opt/anaconda3/lib/python3.9/site-packages/sklearn/svm/_base.py:284: ConvergenceWarning: Solver terminated early (max_iter=1000).  Consider pre-processing your data with StandardScaler or MinMaxScaler.\n",
      "  warnings.warn(\n",
      "/Users/user/opt/anaconda3/lib/python3.9/site-packages/sklearn/svm/_base.py:284: ConvergenceWarning: Solver terminated early (max_iter=1000).  Consider pre-processing your data with StandardScaler or MinMaxScaler.\n",
      "  warnings.warn(\n",
      "/Users/user/opt/anaconda3/lib/python3.9/site-packages/sklearn/svm/_base.py:284: ConvergenceWarning: Solver terminated early (max_iter=1000).  Consider pre-processing your data with StandardScaler or MinMaxScaler.\n",
      "  warnings.warn(\n",
      "/Users/user/opt/anaconda3/lib/python3.9/site-packages/sklearn/svm/_base.py:284: ConvergenceWarning: Solver terminated early (max_iter=1000).  Consider pre-processing your data with StandardScaler or MinMaxScaler.\n",
      "  warnings.warn(\n",
      "/Users/user/opt/anaconda3/lib/python3.9/site-packages/sklearn/svm/_base.py:284: ConvergenceWarning: Solver terminated early (max_iter=1000).  Consider pre-processing your data with StandardScaler or MinMaxScaler.\n",
      "  warnings.warn(\n",
      "/Users/user/opt/anaconda3/lib/python3.9/site-packages/sklearn/svm/_base.py:284: ConvergenceWarning: Solver terminated early (max_iter=1000).  Consider pre-processing your data with StandardScaler or MinMaxScaler.\n",
      "  warnings.warn(\n",
      "/Users/user/opt/anaconda3/lib/python3.9/site-packages/sklearn/svm/_base.py:284: ConvergenceWarning: Solver terminated early (max_iter=1000).  Consider pre-processing your data with StandardScaler or MinMaxScaler.\n",
      "  warnings.warn(\n",
      "/Users/user/opt/anaconda3/lib/python3.9/site-packages/sklearn/svm/_base.py:284: ConvergenceWarning: Solver terminated early (max_iter=1000).  Consider pre-processing your data with StandardScaler or MinMaxScaler.\n",
      "  warnings.warn(\n",
      "/Users/user/opt/anaconda3/lib/python3.9/site-packages/sklearn/svm/_base.py:284: ConvergenceWarning: Solver terminated early (max_iter=1000).  Consider pre-processing your data with StandardScaler or MinMaxScaler.\n",
      "  warnings.warn(\n",
      "/Users/user/opt/anaconda3/lib/python3.9/site-packages/sklearn/svm/_base.py:284: ConvergenceWarning: Solver terminated early (max_iter=1000).  Consider pre-processing your data with StandardScaler or MinMaxScaler.\n",
      "  warnings.warn(\n"
     ]
    },
    {
     "data": {
      "text/html": [
       "<div>\n",
       "<style scoped>\n",
       "    .dataframe tbody tr th:only-of-type {\n",
       "        vertical-align: middle;\n",
       "    }\n",
       "\n",
       "    .dataframe tbody tr th {\n",
       "        vertical-align: top;\n",
       "    }\n",
       "\n",
       "    .dataframe thead th {\n",
       "        text-align: right;\n",
       "    }\n",
       "</style>\n",
       "<table border=\"1\" class=\"dataframe\">\n",
       "  <thead>\n",
       "    <tr style=\"text-align: right;\">\n",
       "      <th></th>\n",
       "      <th>Mean Test Score</th>\n",
       "      <th>svc__C</th>\n",
       "    </tr>\n",
       "  </thead>\n",
       "  <tbody>\n",
       "    <tr>\n",
       "      <th>0</th>\n",
       "      <td>0.884966</td>\n",
       "      <td>0.1</td>\n",
       "    </tr>\n",
       "    <tr>\n",
       "      <th>1</th>\n",
       "      <td>0.973215</td>\n",
       "      <td>1.0</td>\n",
       "    </tr>\n",
       "    <tr>\n",
       "      <th>2</th>\n",
       "      <td>0.992878</td>\n",
       "      <td>100.0</td>\n",
       "    </tr>\n",
       "    <tr>\n",
       "      <th>3</th>\n",
       "      <td>0.981199</td>\n",
       "      <td>1000.0</td>\n",
       "    </tr>\n",
       "  </tbody>\n",
       "</table>\n",
       "</div>"
      ],
      "text/plain": [
       "   Mean Test Score  svc__C\n",
       "0         0.884966     0.1\n",
       "1         0.973215     1.0\n",
       "2         0.992878   100.0\n",
       "3         0.981199  1000.0"
      ]
     },
     "execution_count": 27,
     "metadata": {},
     "output_type": "execute_result"
    }
   ],
   "source": [
    "np.random.seed(1)\n",
    "param_grid = {\n",
    "    'svc__C': [0.1, 1, 100, 1000]\n",
    "}\n",
    "\n",
    "# Create an SVM classifier with a rbf kernel\n",
    "rbf_svm_hyperparameter_selection_clf = make_pipeline(StandardScaler(), SVC(max_iter=1000, random_state=123, kernel='rbf'))\n",
    "\n",
    "# Perform grid search with 5-fold cross validation\n",
    "rbf_svm_hyperparameter_selection_res = tune(\n",
    "    param_grid=param_grid,\n",
    "    pipeline=rbf_svm_hyperparameter_selection_clf,\n",
    "    X_train=X_train_balanced,\n",
    "    y_train=y_train_balanced,\n",
    "    scoring_func='f1_macro'\n",
    ")\n",
    "\n",
    "rbf_svm_hyperparameter_selection_res"
   ]
  },
  {
   "cell_type": "code",
   "execution_count": 28,
   "metadata": {},
   "outputs": [
    {
     "data": {
      "image/png": "[encoded data removed]",
      "text/plain": [
       "<Figure size 640x480 with 1 Axes>"
      ]
     },
     "metadata": {},
     "output_type": "display_data"
    }
   ],
   "source": [
    "plt.plot(\n",
    "    rbf_svm_hyperparameter_selection_res['svc__C'],\n",
    "    rbf_svm_hyperparameter_selection_res[\"Mean Test Score\"]\n",
    ")\n",
    "\n",
    "# Sets log scale for regularization C\n",
    "plt.xscale(\"log\")\n",
    "\n",
    "# Axis and Title labels\n",
    "plt.xlabel(\"Regularization C\")\n",
    "plt.ylabel(\"Mean Test Score (F1 score)\")\n",
    "plt.title(\"Radial Basis Function SVC Tuning Results\")\n",
    "\n",
    "plt.show()"
   ]
  },
  {
   "cell_type": "markdown",
   "metadata": {},
   "source": [
    "The F1 score only seems to be decreasing after `C=100` so this would be the optimal regularization hyperparameter."
   ]
  },
  {
   "cell_type": "code",
   "execution_count": 29,
   "metadata": {},
   "outputs": [
    {
     "name": "stderr",
     "output_type": "stream",
     "text": [
      "/Users/user/opt/anaconda3/lib/python3.9/site-packages/sklearn/svm/_base.py:284: ConvergenceWarning: Solver terminated early (max_iter=5000).  Consider pre-processing your data with StandardScaler or MinMaxScaler.\n",
      "  warnings.warn(\n"
     ]
    },
    {
     "data": {
      "text/plain": [
       "0.9524251123400135"
      ]
     },
     "execution_count": 29,
     "metadata": {},
     "output_type": "execute_result"
    }
   ],
   "source": [
    "np.random.seed(1)\n",
    "# Fit the classifier to the training data\n",
    "rbf_svm_clf = make_pipeline(StandardScaler(), SVC(max_iter=5000, random_state=123, C=100, kernel='rbf'))\n",
    "rbf_svm_clf.fit(X_train_balanced, y_train_balanced)\n",
    "\n",
    "rbf_pred = rbf_svm_clf.predict(X_test)\n",
    "\n",
    "rbf_svm_f1score = f1_score(y_true=y_test, y_pred=rbf_pred)\n",
    "rbf_svm_f1score"
   ]
  },
  {
   "cell_type": "code",
   "execution_count": 30,
   "metadata": {},
   "outputs": [
    {
     "data": {
      "image/png": "[encoded data removed]",
      "text/plain": [
       "<Figure size 640x480 with 2 Axes>"
      ]
     },
     "metadata": {},
     "output_type": "display_data"
    }
   ],
   "source": [
    "conf_mat_maker(y_test, rbf_pred)"
   ]
  },
  {
   "cell_type": "markdown",
   "metadata": {},
   "source": [
    "* Talk about how this does a better job than linear regression.\n",
    "    * **@Jon**: talk about it in terms of both f1 score and accuracy like the past 2 models?\n",
    "    * Yes"
   ]
  },
  {
   "cell_type": "markdown",
   "metadata": {},
   "source": [
    "# Decision Tree Classifier"
   ]
  },
  {
   "cell_type": "markdown",
   "metadata": {},
   "source": [
    "The decision tree model is an algorithm that is constructed as a tree-like structure of decisions and their consequences.\n",
    "\n",
    "In a decision tree, each internal node represents a test on an attribute, each branch represents the outcome of the test, and each leaf node represents a decision or a classification. The model starts at the root node and follows a path through the tree based on the values of the input features until it reaches a leaf node that corresponds to the predicted output value.\n",
    "\n",
    "The decision tree algorithm is a top-down, greedy approach that recursively splits the data into smaller and more homogeneous subsets based on the values of the input features, with the goal of maximizing the purity of the resulting subsets. The algorithm uses a measure of impurity, such as entropy or Gini impurity, to evaluate the quality of each split and to select the best split at each node.\n",
    "\n",
    "Decision tree model is easy to understand and interpret, able to handle both categorical and numerical data, and able to capture complex nonlinear relationships. However, it can also suffer from overfitting, instability, and sensitivity to the choice of hyperparameters and input features.\n",
    "\n",
    "Below we will try different resampling methods and evaluate their performance for a decision tree model."
   ]
  },
  {
   "cell_type": "code",
   "execution_count": 31,
   "metadata": {},
   "outputs": [
    {
     "name": "stdout",
     "output_type": "stream",
     "text": [
      "Resampling technique: Random undersampling\n",
      "fit_time           0.085 (+/- 0.003)\n",
      "score_time         0.063 (+/- 0.001)\n",
      "test_f1            0.998 (+/- 0.001)\n",
      "train_f1           0.998 (+/- 0.000)\n",
      "test_accuracy      1.000 (+/- 0.000)\n",
      "train_accuracy     1.000 (+/- 0.000)\n",
      "test_precision     0.996 (+/- 0.002)\n",
      "train_precision    0.997 (+/- 0.000)\n",
      "test_recall        1.000 (+/- 0.000)\n",
      "train_recall       1.000 (+/- 0.000)\n",
      "dtype: object\n",
      "Resampling technique: Random oversampling\n",
      "fit_time           0.467 (+/- 0.002)\n",
      "score_time         0.065 (+/- 0.001)\n",
      "test_f1            1.000 (+/- 0.000)\n",
      "train_f1           1.000 (+/- 0.000)\n",
      "test_accuracy      1.000 (+/- 0.000)\n",
      "train_accuracy     1.000 (+/- 0.000)\n",
      "test_precision     1.000 (+/- 0.000)\n",
      "train_precision    1.000 (+/- 0.000)\n",
      "test_recall        1.000 (+/- 0.000)\n",
      "train_recall       1.000 (+/- 0.000)\n",
      "dtype: object\n",
      "Resampling technique: SMOTE\n",
      "fit_time           0.908 (+/- 0.050)\n",
      "score_time         0.066 (+/- 0.002)\n",
      "test_f1            0.999 (+/- 0.000)\n",
      "train_f1           1.000 (+/- 0.000)\n",
      "test_accuracy      1.000 (+/- 0.000)\n",
      "train_accuracy     1.000 (+/- 0.000)\n",
      "test_precision     0.999 (+/- 0.001)\n",
      "train_precision    1.000 (+/- 0.000)\n",
      "test_recall        1.000 (+/- 0.000)\n",
      "train_recall       1.000 (+/- 0.000)\n",
      "dtype: object\n"
     ]
    }
   ],
   "source": [
    "# Split the data into features (X) and target variable (y)\n",
    "X = raw_df.drop('fraud', axis=1)\n",
    "y = raw_df['fraud']\n",
    "\n",
    "# Split the data into training and testing sets\n",
    "X_train, X_test, y_train, y_test = train_test_split(X, y, test_size=0.8, random_state=123)\n",
    "\n",
    "# Define the different resampling techniques to compare\n",
    "resample_techniques = [\n",
    "    ('Random undersampling', RandomUnderSampler(random_state=123)),\n",
    "    ('Random oversampling', RandomOverSampler(random_state=123)),\n",
    "    ('SMOTE', SMOTE(random_state=123))\n",
    "]\n",
    "\n",
    "# Define the decision tree classifier\n",
    "clf = DecisionTreeClassifier(random_state=123)\n",
    "\n",
    "# Loop over the different resampling techniques and fit the decision tree model\n",
    "for name, resample in resample_techniques:\n",
    "    pipeline2 = Pipeline([('resample', resample), ('clf', clf)])\n",
    "    pipeline2.fit(X_train, y_train)\n",
    "    y_pred = pipeline2.predict(X_test)\n",
    "    report = classification_report(y_test, y_pred)\n",
    "    print(f'Resampling technique: {name}')\n",
    "    print(mean_std_cross_val_scores(\n",
    "    pipeline2, X_train, y_train, return_train_score=True, scoring=[\"f1\",\"accuracy\",\"precision\",\"recall\"]\n",
    "))"
   ]
  },
  {
   "cell_type": "markdown",
   "metadata": {},
   "source": [
    "From the table above, we can see that the random oversampling method is the most efficient and effective method to deal with the imbalanced dataset for a decision tree model. Let's try the cost sensitive learning resampling method below."
   ]
  },
  {
   "cell_type": "code",
   "execution_count": 32,
   "metadata": {},
   "outputs": [
    {
     "name": "stdout",
     "output_type": "stream",
     "text": [
      "              precision    recall  f1-score   support\n",
      "\n",
      "         0.0       1.00      1.00      1.00    730119\n",
      "         1.0       1.00      1.00      1.00     69881\n",
      "\n",
      "    accuracy                           1.00    800000\n",
      "   macro avg       1.00      1.00      1.00    800000\n",
      "weighted avg       1.00      1.00      1.00    800000\n",
      "\n",
      "fit_time           0.269 (+/- 0.008)\n",
      "score_time         0.064 (+/- 0.001)\n",
      "test_f1_macro      1.000 (+/- 0.000)\n",
      "train_f1_macro     1.000 (+/- 0.000)\n",
      "test_accuracy      1.000 (+/- 0.000)\n",
      "train_accuracy     1.000 (+/- 0.000)\n",
      "test_precision     1.000 (+/- 0.000)\n",
      "train_precision    1.000 (+/- 0.000)\n",
      "test_recall        1.000 (+/- 0.000)\n",
      "train_recall       1.000 (+/- 0.000)\n",
      "dtype: object\n"
     ]
    }
   ],
   "source": [
    "# cost sensitive learning\n",
    "\n",
    "# Define the class weights\n",
    "class_weights = {0: 1, 1: 5}  # Assign higher weight to the minority class\n",
    "\n",
    "# Train a decision tree model with class weights\n",
    "clf = DecisionTreeClassifier(class_weight=class_weights, random_state=123)\n",
    "clf.fit(X_train, y_train)\n",
    "\n",
    "# Make predictions on the testing set\n",
    "dt_pred = clf.predict(X_test)\n",
    "\n",
    "# Print classification report\n",
    "print(classification_report(y_test, dt_pred))\n",
    "print(mean_std_cross_val_scores(clf, X_train, y_train, return_train_score=True, scoring=[\"f1_macro\",\"accuracy\",\"precision\",\"recall\"]))"
   ]
  },
  {
   "cell_type": "code",
   "execution_count": 33,
   "metadata": {},
   "outputs": [
    {
     "data": {
      "text/plain": [
       "0.9995635281238149"
      ]
     },
     "execution_count": 33,
     "metadata": {},
     "output_type": "execute_result"
    }
   ],
   "source": [
    "decision_tree_f1score = f1_score(y_true=y_test, y_pred=dt_pred)\n",
    "decision_tree_f1score"
   ]
  },
  {
   "cell_type": "markdown",
   "metadata": {},
   "source": [
    "Cost-sensitive learning is a technique that aims to address the issue of class imbalance by assigning different misclassification costs to different classes. In the context of a binary classification problem, cost-sensitive learning involves assigning a higher cost to misclassifying the minority class (i.e., the positive class in the case of fraud detection) than to misclassifying the majority class (i.e., the negative class in the case of fraud detection).\n",
    "\n",
    "In reality, the cost of misclassifying a fraudulent transaction as non-fraudulent could be much higher than the cost of misclassifying a non-fraudulent transaction as fraudulent. This is because misclassifying a fraudulent transaction as non-fraudulent can lead to financial losses for the company, while misclassifying a non-fraudulent transaction as fraudulent might only result in additional investigation or inconvenience for the customer.\n",
    "\n",
    "From the performance and f1 scores of all the methods, we will choose the cost-sensitive learning technique for resampling."
   ]
  },
  {
   "cell_type": "code",
   "execution_count": 34,
   "metadata": {},
   "outputs": [
    {
     "data": {
      "image/png": "[encoded data removed]",
      "text/plain": [
       "<Figure size 640x480 with 2 Axes>"
      ]
     },
     "metadata": {},
     "output_type": "display_data"
    }
   ],
   "source": [
    "conf_mat_maker(y_test, dt_pred)"
   ]
  },
  {
   "cell_type": "markdown",
   "metadata": {},
   "source": [
    "# Random Forest Classifier"
   ]
  },
  {
   "cell_type": "markdown",
   "metadata": {},
   "source": [
    "Random Forest is an algorithm that uses a collection of decision trees to improve the predictive accuracy and generalization of the model. It is an ensemble learning technique that combines multiple decision trees and aggregates their results to make a final prediction. Each decision tree in the forest is trained on a different subset of the data, using a random selection of features at each split. This overcomes the shortcoming of the decision tree classifier mentioned earlier.\n",
    "\n",
    "During prediction, each decision tree in the forest independently generates a prediction, and the final prediction is made by taking a majority vote across all the trees. This approach reduces the risk of overfitting and makes the model more robust to noise and outliers in the data.\n"
   ]
  },
  {
   "cell_type": "code",
   "execution_count": 35,
   "metadata": {},
   "outputs": [
    {
     "name": "stdout",
     "output_type": "stream",
     "text": [
      "              precision    recall  f1-score   support\n",
      "\n",
      "         0.0       1.00      1.00      1.00    730119\n",
      "         1.0       1.00      1.00      1.00     69881\n",
      "\n",
      "    accuracy                           1.00    800000\n",
      "   macro avg       1.00      1.00      1.00    800000\n",
      "weighted avg       1.00      1.00      1.00    800000\n",
      "\n",
      "fit_time           11.433 (+/- 2.425)\n",
      "score_time          0.280 (+/- 0.044)\n",
      "test_f1_macro       1.000 (+/- 0.000)\n",
      "train_f1_macro      1.000 (+/- 0.000)\n",
      "test_accuracy       1.000 (+/- 0.000)\n",
      "train_accuracy      1.000 (+/- 0.000)\n",
      "test_precision      1.000 (+/- 0.000)\n",
      "train_precision     1.000 (+/- 0.000)\n",
      "test_recall         1.000 (+/- 0.000)\n",
      "train_recall        1.000 (+/- 0.000)\n",
      "dtype: object\n"
     ]
    }
   ],
   "source": [
    "np.random.seed(1)\n",
    "# Define the random forest classifier\n",
    "rfc = RandomForestClassifier(n_estimators=100, random_state=123)\n",
    "\n",
    "# Fit the random forest classifier on the training data\n",
    "rfc.fit(X_train, y_train)\n",
    "\n",
    "# Make predictions on the testing set\n",
    "rfc_pred = rfc.predict(X_test)\n",
    "\n",
    "# Print classification report\n",
    "print(classification_report(y_test, rfc_pred))\n",
    "print(mean_std_cross_val_scores(rfc, X_train, y_train, return_train_score=True, scoring=[\"f1_macro\",\"accuracy\",\"precision\",\"recall\"]))\n",
    "\n"
   ]
  },
  {
   "cell_type": "code",
   "execution_count": 36,
   "metadata": {},
   "outputs": [
    {
     "data": {
      "image/png": "[encoded data removed]",
      "text/plain": [
       "<Figure size 640x480 with 2 Axes>"
      ]
     },
     "metadata": {},
     "output_type": "display_data"
    }
   ],
   "source": [
    "conf_mat_maker(y_test, rfc_pred)"
   ]
  },
  {
   "cell_type": "code",
   "execution_count": 48,
   "metadata": {},
   "outputs": [
    {
     "name": "stderr",
     "output_type": "stream",
     "text": [
      "/Users/user/opt/anaconda3/lib/python3.9/site-packages/sklearn/model_selection/_validation.py:372: FitFailedWarning: \n",
      "5 fits failed out of a total of 35.\n",
      "The score on these train-test partitions for these parameters will be set to nan.\n",
      "If these failures are not expected, you can try to debug them by setting error_score='raise'.\n",
      "\n",
      "Below are more details about the failures:\n",
      "--------------------------------------------------------------------------------\n",
      "5 fits failed with the following error:\n",
      "Traceback (most recent call last):\n",
      "  File \"/Users/user/opt/anaconda3/lib/python3.9/site-packages/sklearn/model_selection/_validation.py\", line 680, in _fit_and_score\n",
      "    estimator.fit(X_train, y_train, **fit_params)\n",
      "  File \"/Users/user/opt/anaconda3/lib/python3.9/site-packages/sklearn/ensemble/_forest.py\", line 392, in fit\n",
      "    self._validate_estimator()\n",
      "  File \"/Users/user/opt/anaconda3/lib/python3.9/site-packages/sklearn/ensemble/_base.py\", line 138, in _validate_estimator\n",
      "    raise ValueError(\n",
      "ValueError: n_estimators must be greater than zero, got 0.\n",
      "\n",
      "  warnings.warn(some_fits_failed_message, FitFailedWarning)\n",
      "/Users/user/opt/anaconda3/lib/python3.9/site-packages/sklearn/model_selection/_search.py:969: UserWarning: One or more of the test scores are non-finite: [       nan 0.99989051 0.99989051 0.99989051 0.99989051 0.99989051\n",
      " 0.99989051]\n",
      "  warnings.warn(\n"
     ]
    },
    {
     "data": {
      "text/html": [
       "<div>\n",
       "<style scoped>\n",
       "    .dataframe tbody tr th:only-of-type {\n",
       "        vertical-align: middle;\n",
       "    }\n",
       "\n",
       "    .dataframe tbody tr th {\n",
       "        vertical-align: top;\n",
       "    }\n",
       "\n",
       "    .dataframe thead th {\n",
       "        text-align: right;\n",
       "    }\n",
       "</style>\n",
       "<table border=\"1\" class=\"dataframe\">\n",
       "  <thead>\n",
       "    <tr style=\"text-align: right;\">\n",
       "      <th></th>\n",
       "      <th>Mean Test Score</th>\n",
       "      <th>n_estimators</th>\n",
       "    </tr>\n",
       "  </thead>\n",
       "  <tbody>\n",
       "    <tr>\n",
       "      <th>0</th>\n",
       "      <td>NaN</td>\n",
       "      <td>0</td>\n",
       "    </tr>\n",
       "    <tr>\n",
       "      <th>1</th>\n",
       "      <td>0.999891</td>\n",
       "      <td>50</td>\n",
       "    </tr>\n",
       "    <tr>\n",
       "      <th>2</th>\n",
       "      <td>0.999891</td>\n",
       "      <td>100</td>\n",
       "    </tr>\n",
       "    <tr>\n",
       "      <th>3</th>\n",
       "      <td>0.999891</td>\n",
       "      <td>150</td>\n",
       "    </tr>\n",
       "    <tr>\n",
       "      <th>4</th>\n",
       "      <td>0.999891</td>\n",
       "      <td>200</td>\n",
       "    </tr>\n",
       "    <tr>\n",
       "      <th>5</th>\n",
       "      <td>0.999891</td>\n",
       "      <td>250</td>\n",
       "    </tr>\n",
       "    <tr>\n",
       "      <th>6</th>\n",
       "      <td>0.999891</td>\n",
       "      <td>300</td>\n",
       "    </tr>\n",
       "  </tbody>\n",
       "</table>\n",
       "</div>"
      ],
      "text/plain": [
       "   Mean Test Score  n_estimators\n",
       "0              NaN             0\n",
       "1         0.999891            50\n",
       "2         0.999891           100\n",
       "3         0.999891           150\n",
       "4         0.999891           200\n",
       "5         0.999891           250\n",
       "6         0.999891           300"
      ]
     },
     "execution_count": 48,
     "metadata": {},
     "output_type": "execute_result"
    }
   ],
   "source": [
    "# Define the hyperparameters to tune\n",
    "param_grid = {\n",
    "    'n_estimators': [0, 50, 100, 150, 200, 250, 300]\n",
    "}\n",
    "\n",
    "#Tune the hyperparameters\n",
    "\n",
    "random_forest_hyperparameter_selection_res = tune(\n",
    "    pipeline = rfc,\n",
    "    param_grid=param_grid, \n",
    "    X_train=X_train, \n",
    "    y_train=y_train, \n",
    "    scoring_func='f1_macro'\n",
    ")\n",
    "\n",
    "random_forest_hyperparameter_selection_res"
   ]
  },
  {
   "cell_type": "code",
   "execution_count": 50,
   "metadata": {},
   "outputs": [
    {
     "name": "stderr",
     "output_type": "stream",
     "text": [
      "/Users/user/opt/anaconda3/lib/python3.9/site-packages/sklearn/model_selection/_validation.py:372: FitFailedWarning: \n",
      "5 fits failed out of a total of 30.\n",
      "The score on these train-test partitions for these parameters will be set to nan.\n",
      "If these failures are not expected, you can try to debug them by setting error_score='raise'.\n",
      "\n",
      "Below are more details about the failures:\n",
      "--------------------------------------------------------------------------------\n",
      "5 fits failed with the following error:\n",
      "Traceback (most recent call last):\n",
      "  File \"/Users/user/opt/anaconda3/lib/python3.9/site-packages/sklearn/model_selection/_validation.py\", line 680, in _fit_and_score\n",
      "    estimator.fit(X_train, y_train, **fit_params)\n",
      "  File \"/Users/user/opt/anaconda3/lib/python3.9/site-packages/sklearn/ensemble/_forest.py\", line 392, in fit\n",
      "    self._validate_estimator()\n",
      "  File \"/Users/user/opt/anaconda3/lib/python3.9/site-packages/sklearn/ensemble/_base.py\", line 138, in _validate_estimator\n",
      "    raise ValueError(\n",
      "ValueError: n_estimators must be greater than zero, got 0.\n",
      "\n",
      "  warnings.warn(some_fits_failed_message, FitFailedWarning)\n",
      "/Users/user/opt/anaconda3/lib/python3.9/site-packages/sklearn/model_selection/_search.py:969: UserWarning: One or more of the test scores are non-finite: [       nan 0.99576093 0.99979667 0.9997653  0.99989051 0.99989051]\n",
      "  warnings.warn(\n"
     ]
    },
    {
     "data": {
      "text/html": [
       "<div>\n",
       "<style scoped>\n",
       "    .dataframe tbody tr th:only-of-type {\n",
       "        vertical-align: middle;\n",
       "    }\n",
       "\n",
       "    .dataframe tbody tr th {\n",
       "        vertical-align: top;\n",
       "    }\n",
       "\n",
       "    .dataframe thead th {\n",
       "        text-align: right;\n",
       "    }\n",
       "</style>\n",
       "<table border=\"1\" class=\"dataframe\">\n",
       "  <thead>\n",
       "    <tr style=\"text-align: right;\">\n",
       "      <th></th>\n",
       "      <th>Mean Test Score</th>\n",
       "      <th>n_estimators</th>\n",
       "    </tr>\n",
       "  </thead>\n",
       "  <tbody>\n",
       "    <tr>\n",
       "      <th>0</th>\n",
       "      <td>NaN</td>\n",
       "      <td>0</td>\n",
       "    </tr>\n",
       "    <tr>\n",
       "      <th>1</th>\n",
       "      <td>0.995761</td>\n",
       "      <td>1</td>\n",
       "    </tr>\n",
       "    <tr>\n",
       "      <th>2</th>\n",
       "      <td>0.999797</td>\n",
       "      <td>5</td>\n",
       "    </tr>\n",
       "    <tr>\n",
       "      <th>3</th>\n",
       "      <td>0.999765</td>\n",
       "      <td>10</td>\n",
       "    </tr>\n",
       "    <tr>\n",
       "      <th>4</th>\n",
       "      <td>0.999891</td>\n",
       "      <td>50</td>\n",
       "    </tr>\n",
       "    <tr>\n",
       "      <th>5</th>\n",
       "      <td>0.999891</td>\n",
       "      <td>100</td>\n",
       "    </tr>\n",
       "  </tbody>\n",
       "</table>\n",
       "</div>"
      ],
      "text/plain": [
       "   Mean Test Score  n_estimators\n",
       "0              NaN             0\n",
       "1         0.995761             1\n",
       "2         0.999797             5\n",
       "3         0.999765            10\n",
       "4         0.999891            50\n",
       "5         0.999891           100"
      ]
     },
     "execution_count": 50,
     "metadata": {},
     "output_type": "execute_result"
    }
   ],
   "source": [
    "# Define the hyperparameters to tune\n",
    "param_grid = {\n",
    "    'n_estimators': [0,1,5,10, 50, 100]\n",
    "}\n",
    "\n",
    "#Tune the hyperparameters\n",
    "\n",
    "random_forest_hyperparameter_selection_res = tune(\n",
    "    pipeline = rfc,\n",
    "    param_grid=param_grid, \n",
    "    X_train=X_train, \n",
    "    y_train=y_train, \n",
    "    scoring_func='f1_macro'\n",
    ")\n",
    "\n",
    "random_forest_hyperparameter_selection_res"
   ]
  },
  {
   "cell_type": "code",
   "execution_count": 52,
   "metadata": {},
   "outputs": [
    {
     "data": {
      "image/png": "[encoded data removed]",
      "text/plain": [
       "<Figure size 640x480 with 1 Axes>"
      ]
     },
     "metadata": {},
     "output_type": "display_data"
    }
   ],
   "source": [
    "# Create a new figure and axis\n",
    "fig, ax = plt.subplots()\n",
    "\n",
    "# Plot the data as a line chart\n",
    "ax.plot(\n",
    "    \n",
    "    random_forest_hyperparameter_selection_res[\"n_estimators\"],\n",
    "    random_forest_hyperparameter_selection_res[\"Mean Test Score\"]\n",
    ")\n",
    "\n",
    "# Set the title and axis labels\n",
    "ax.set_title(\"Validation Score vs N-estimator Value\")\n",
    "ax.set_xlabel(\"N Estimator Value\")\n",
    "ax.set_ylabel(\"Mean Validation Score (F1 Score)\")\n",
    "\n",
    "# Show the chart\n",
    "plt.show()"
   ]
  },
  {
   "cell_type": "markdown",
   "metadata": {},
   "source": [
    "From the graph above, we can see that the n-estimator = 50 will produce the same f1 score as n-estimator = 100. By running the code below, we can see that n-estimator = 50 maximize both the efficiency and f1-score"
   ]
  },
  {
   "cell_type": "code",
   "execution_count": 53,
   "metadata": {},
   "outputs": [
    {
     "name": "stdout",
     "output_type": "stream",
     "text": [
      "              precision    recall  f1-score   support\n",
      "\n",
      "         0.0       1.00      1.00      1.00    730119\n",
      "         1.0       1.00      1.00      1.00     69881\n",
      "\n",
      "    accuracy                           1.00    800000\n",
      "   macro avg       1.00      1.00      1.00    800000\n",
      "weighted avg       1.00      1.00      1.00    800000\n",
      "\n",
      "fit_time           4.859 (+/- 0.181)\n",
      "score_time         0.157 (+/- 0.002)\n",
      "test_f1_macro      1.000 (+/- 0.000)\n",
      "train_f1_macro     1.000 (+/- 0.000)\n",
      "test_accuracy      1.000 (+/- 0.000)\n",
      "train_accuracy     1.000 (+/- 0.000)\n",
      "test_precision     1.000 (+/- 0.000)\n",
      "train_precision    1.000 (+/- 0.000)\n",
      "test_recall        1.000 (+/- 0.000)\n",
      "train_recall       1.000 (+/- 0.000)\n",
      "dtype: object\n"
     ]
    }
   ],
   "source": [
    "np.random.seed(1)\n",
    "# Define the random forest classifier\n",
    "rfc = RandomForestClassifier(n_estimators=50, random_state=123)\n",
    "\n",
    "# Fit the random forest classifier on the training data\n",
    "rfc.fit(X_train, y_train)\n",
    "\n",
    "# Make predictions on the testing set\n",
    "rfc_pred = rfc.predict(X_test)\n",
    "\n",
    "# Print classification report\n",
    "print(classification_report(y_test, rfc_pred))\n",
    "print(mean_std_cross_val_scores(rfc, X_train, y_train, return_train_score=True, scoring=[\"f1_macro\",\"accuracy\",\"precision\",\"recall\"]))\n",
    "\n"
   ]
  },
  {
   "cell_type": "code",
   "execution_count": 54,
   "metadata": {},
   "outputs": [
    {
     "data": {
      "text/plain": [
       "0.9997638691119332"
      ]
     },
     "execution_count": 54,
     "metadata": {},
     "output_type": "execute_result"
    }
   ],
   "source": [
    "rfc_f1score = f1_score(y_true=y_test, y_pred=rfc_pred)\n",
    "rfc_f1score"
   ]
  },
  {
   "cell_type": "code",
   "execution_count": 55,
   "metadata": {},
   "outputs": [
    {
     "data": {
      "image/png": "[encoded data removed]",
      "text/plain": [
       "<Figure size 640x480 with 2 Axes>"
      ]
     },
     "metadata": {},
     "output_type": "display_data"
    }
   ],
   "source": [
    "conf_mat_maker(y_test, rfc_pred)"
   ]
  },
  {
   "cell_type": "markdown",
   "metadata": {},
   "source": [
    "# Conclusion"
   ]
  },
  {
   "cell_type": "code",
   "execution_count": 56,
   "metadata": {},
   "outputs": [
    {
     "data": {
      "text/html": [
       "<div>\n",
       "<style scoped>\n",
       "    .dataframe tbody tr th:only-of-type {\n",
       "        vertical-align: middle;\n",
       "    }\n",
       "\n",
       "    .dataframe tbody tr th {\n",
       "        vertical-align: top;\n",
       "    }\n",
       "\n",
       "    .dataframe thead th {\n",
       "        text-align: right;\n",
       "    }\n",
       "</style>\n",
       "<table border=\"1\" class=\"dataframe\">\n",
       "  <thead>\n",
       "    <tr style=\"text-align: right;\">\n",
       "      <th></th>\n",
       "      <th>Classifier</th>\n",
       "      <th>Test F1-Score</th>\n",
       "      <th>Parametric or Non Parametric</th>\n",
       "    </tr>\n",
       "  </thead>\n",
       "  <tbody>\n",
       "    <tr>\n",
       "      <th>0</th>\n",
       "      <td>Knn</td>\n",
       "      <td>0.958497</td>\n",
       "      <td>Non Parametric</td>\n",
       "    </tr>\n",
       "    <tr>\n",
       "      <th>1</th>\n",
       "      <td>Linear SVC</td>\n",
       "      <td>0.841091</td>\n",
       "      <td>Parametric</td>\n",
       "    </tr>\n",
       "    <tr>\n",
       "      <th>2</th>\n",
       "      <td>RBF SVC</td>\n",
       "      <td>0.952425</td>\n",
       "      <td>Non Parametric</td>\n",
       "    </tr>\n",
       "    <tr>\n",
       "      <th>3</th>\n",
       "      <td>Decision Tree</td>\n",
       "      <td>0.999564</td>\n",
       "      <td>Parametric</td>\n",
       "    </tr>\n",
       "    <tr>\n",
       "      <th>4</th>\n",
       "      <td>Random Forest</td>\n",
       "      <td>0.999764</td>\n",
       "      <td>Parametric</td>\n",
       "    </tr>\n",
       "  </tbody>\n",
       "</table>\n",
       "</div>"
      ],
      "text/plain": [
       "      Classifier  Test F1-Score Parametric or Non Parametric\n",
       "0            Knn       0.958497               Non Parametric\n",
       "1     Linear SVC       0.841091                   Parametric\n",
       "2        RBF SVC       0.952425               Non Parametric\n",
       "3  Decision Tree       0.999564                   Parametric\n",
       "4  Random Forest       0.999764                   Parametric"
      ]
     },
     "execution_count": 56,
     "metadata": {},
     "output_type": "execute_result"
    }
   ],
   "source": [
    "pd.DataFrame(\n",
    "    {\n",
    "        \"Classifier\": [\"Knn\", \"Linear SVC\", \"RBF SVC\", \"Decision Tree\", \"Random Forest\"],\n",
    "        \"Test F1-Score\": [knn_f1score, linear_svm_f1score, rbf_svm_f1score, decision_tree_f1score, rfc_f1score],\n",
    "        \"Parametric or Non Parametric\": [\"Non Parametric\", \"Parametric\", \"Non Parametric\", \"Parametric\", \"Parametric\"],\n",
    "    }\n",
    ")"
   ]
  },
  {
   "cell_type": "markdown",
   "metadata": {},
   "source": [
    "Maybe include all 5 confusion matrices and have this section be the location where compare between each type of model."
   ]
  },
  {
   "cell_type": "markdown",
   "metadata": {},
   "source": [
    "## Began this part of the conclusion as noted in fb groupchat -- you guys can determine if we need it or not\n",
    "The goal of our project was to develop a credit card fraud classifier that would be sufficient for use in the real world. More specifically, by using a credit card fraud data set and employing various machine-learning techniques, we wanted to construct a model that would be able to quickly, and correctly, predict whether a transaction was valid or fraud, given the large volume of transactions that occur every minute, let alone in a day. \n",
    "\n",
    "Within our classification analysis, although the kNN classifier performed well, we make note that kNN is a lackluster model to use because kNN is a slow predictor when there are a large number of observations, given that it does not generalize over data in advance; instead, kNN scans historical databases when a prediction is needed **(@Jonathan/Joyce: not sure if correct)** . \n",
    "\n",
    "## @Jonathan or Joyce\n",
    "- did you want me to quickly do the conclusion and jot down a couple of sentences for which model we found best and why?\n",
    "    * i feel like since we are evaluating the performance of each model directly after analyzing it above, we may not need to be specific for the conclusion (see my hyperlink and comment below)\n",
    "- [If you look at this previous project](https://nbviewer.org/github/Anahita97/ECON-323-Project/blob/master/ECON%20323%20Project.ipynb.html) and others that were shared with us, they dont have a long conclusion but just a quick statement of their findings so if you feel we can keep it brief you can just add a sentence here since you 2 have a better understanding of what's happening. if you prefer a longer discussion you can leave bullet points and ill do it / ill just reiterate what i said above for each analysis\n",
    "\n",
    "* I'm good with either. If it were me I'd probably have compare between models and come to a conclusion as to which I think is the best. (Jonathan)"
   ]
  },
  {
   "cell_type": "markdown",
   "metadata": {},
   "source": []
  }
 ],
 "metadata": {
  "kernelspec": {
   "display_name": "Python 3 (ipykernel)",
   "language": "python",
   "name": "python3"
  },
  "language_info": {
   "codemirror_mode": {
    "name": "ipython",
    "version": 3
   },
   "file_extension": ".py",
   "mimetype": "text/x-python",
   "name": "python",
   "nbconvert_exporter": "python",
   "pygments_lexer": "ipython3",
   "version": "3.9.13"
  }
 },
 "nbformat": 4,
 "nbformat_minor": 4
}
